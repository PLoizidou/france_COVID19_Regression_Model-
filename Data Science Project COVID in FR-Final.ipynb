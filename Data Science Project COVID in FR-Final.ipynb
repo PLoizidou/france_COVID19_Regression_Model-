{
 "cells": [
  {
   "cell_type": "markdown",
   "metadata": {},
   "source": [
    "### Research Question: \n",
    "#### Create a model on lockdown period data and one on non-lockdown data to predict COVID cases in France under each of the conditions. \n",
    "\n",
    "Examine if there's a significant difference between the r0 of lockdown and non-lockdown periods. \n",
    "\n",
    "### Data:\n",
    "Worldwide Daily Cases \n",
    "Starting date: 22/1/2020 - today\n",
    "\n",
    "Data extracted from here:\n",
    "https://github.com/CSSEGISandData/COVID-19/blob/master/csse_covid_19_data/csse_covid_19_time_series/time_series_covid19_confirmed_global.csv\n",
    "\n",
    "Raw Data here:\n",
    "https://raw.githubusercontent.com/CSSEGISandData/COVID-19/master/csse_covid_19_data/csse_covid_19_time_series/time_series_covid19_confirmed_global.csv\n",
    "\n",
    "\n",
    "\n",
    "### Notes:\n",
    "##### Useful Libraries \n",
    "supervised learning - scikit-learn \n",
    "https://scikit-learn.org/stable/modules/linear_model.html\n",
    "\n",
    "DataCamp course: https://learn.datacamp.com/courses/supervised-learning-with-scikit-learn\n",
    "\n",
    "Timeseries\n",
    "DataCamp course: https://learn.datacamp.com/courses/manipulating-time-series-data-in-python"
   ]
  },
  {
   "cell_type": "code",
   "execution_count": 1,
   "metadata": {},
   "outputs": [],
   "source": [
    "import pandas as pd\n",
    "import numpy as np\n",
    "\n",
    "import matplotlib.pyplot as plt\n",
    "\n",
    "from sklearn.model_selection import train_test_split\n",
    "from sklearn.linear_model import LinearRegression\n",
    "\n",
    "from sklearn.model_selection import cross_val_score"
   ]
  },
  {
   "cell_type": "markdown",
   "metadata": {},
   "source": [
    "# import data"
   ]
  },
  {
   "cell_type": "code",
   "execution_count": 2,
   "metadata": {},
   "outputs": [],
   "source": [
    "df=pd.read_csv('https://raw.githubusercontent.com/CSSEGISandData/'+\\\n",
    "               'COVID-19/master/csse_covid_19_data/csse_covid_19_time_series'+\\\n",
    "               '/time_series_covid19_confirmed_global.csv')"
   ]
  },
  {
   "cell_type": "code",
   "execution_count": 3,
   "metadata": {},
   "outputs": [
    {
     "data": {
      "text/html": [
       "<div>\n",
       "<style scoped>\n",
       "    .dataframe tbody tr th:only-of-type {\n",
       "        vertical-align: middle;\n",
       "    }\n",
       "\n",
       "    .dataframe tbody tr th {\n",
       "        vertical-align: top;\n",
       "    }\n",
       "\n",
       "    .dataframe thead th {\n",
       "        text-align: right;\n",
       "    }\n",
       "</style>\n",
       "<table border=\"1\" class=\"dataframe\">\n",
       "  <thead>\n",
       "    <tr style=\"text-align: right;\">\n",
       "      <th></th>\n",
       "      <th>Province/State</th>\n",
       "      <th>Country/Region</th>\n",
       "      <th>Lat</th>\n",
       "      <th>Long</th>\n",
       "      <th>1/22/20</th>\n",
       "      <th>1/23/20</th>\n",
       "      <th>1/24/20</th>\n",
       "      <th>1/25/20</th>\n",
       "      <th>1/26/20</th>\n",
       "      <th>1/27/20</th>\n",
       "      <th>...</th>\n",
       "      <th>1/8/21</th>\n",
       "      <th>1/9/21</th>\n",
       "      <th>1/10/21</th>\n",
       "      <th>1/11/21</th>\n",
       "      <th>1/12/21</th>\n",
       "      <th>1/13/21</th>\n",
       "      <th>1/14/21</th>\n",
       "      <th>1/15/21</th>\n",
       "      <th>1/16/21</th>\n",
       "      <th>1/17/21</th>\n",
       "    </tr>\n",
       "  </thead>\n",
       "  <tbody>\n",
       "    <tr>\n",
       "      <th>0</th>\n",
       "      <td>NaN</td>\n",
       "      <td>Afghanistan</td>\n",
       "      <td>33.93911</td>\n",
       "      <td>67.709953</td>\n",
       "      <td>0</td>\n",
       "      <td>0</td>\n",
       "      <td>0</td>\n",
       "      <td>0</td>\n",
       "      <td>0</td>\n",
       "      <td>0</td>\n",
       "      <td>...</td>\n",
       "      <td>53332</td>\n",
       "      <td>53400</td>\n",
       "      <td>53489</td>\n",
       "      <td>53538</td>\n",
       "      <td>53584</td>\n",
       "      <td>53584</td>\n",
       "      <td>53775</td>\n",
       "      <td>53831</td>\n",
       "      <td>53938</td>\n",
       "      <td>53984</td>\n",
       "    </tr>\n",
       "    <tr>\n",
       "      <th>1</th>\n",
       "      <td>NaN</td>\n",
       "      <td>Albania</td>\n",
       "      <td>41.15330</td>\n",
       "      <td>20.168300</td>\n",
       "      <td>0</td>\n",
       "      <td>0</td>\n",
       "      <td>0</td>\n",
       "      <td>0</td>\n",
       "      <td>0</td>\n",
       "      <td>0</td>\n",
       "      <td>...</td>\n",
       "      <td>62378</td>\n",
       "      <td>63033</td>\n",
       "      <td>63595</td>\n",
       "      <td>63971</td>\n",
       "      <td>64627</td>\n",
       "      <td>65334</td>\n",
       "      <td>65994</td>\n",
       "      <td>66635</td>\n",
       "      <td>67216</td>\n",
       "      <td>67690</td>\n",
       "    </tr>\n",
       "    <tr>\n",
       "      <th>2</th>\n",
       "      <td>NaN</td>\n",
       "      <td>Algeria</td>\n",
       "      <td>28.03390</td>\n",
       "      <td>1.659600</td>\n",
       "      <td>0</td>\n",
       "      <td>0</td>\n",
       "      <td>0</td>\n",
       "      <td>0</td>\n",
       "      <td>0</td>\n",
       "      <td>0</td>\n",
       "      <td>...</td>\n",
       "      <td>101657</td>\n",
       "      <td>101913</td>\n",
       "      <td>102144</td>\n",
       "      <td>102369</td>\n",
       "      <td>102641</td>\n",
       "      <td>102860</td>\n",
       "      <td>103127</td>\n",
       "      <td>103381</td>\n",
       "      <td>103611</td>\n",
       "      <td>103833</td>\n",
       "    </tr>\n",
       "  </tbody>\n",
       "</table>\n",
       "<p>3 rows × 366 columns</p>\n",
       "</div>"
      ],
      "text/plain": [
       "  Province/State Country/Region       Lat       Long  1/22/20  1/23/20  \\\n",
       "0            NaN    Afghanistan  33.93911  67.709953        0        0   \n",
       "1            NaN        Albania  41.15330  20.168300        0        0   \n",
       "2            NaN        Algeria  28.03390   1.659600        0        0   \n",
       "\n",
       "   1/24/20  1/25/20  1/26/20  1/27/20  ...  1/8/21  1/9/21  1/10/21  1/11/21  \\\n",
       "0        0        0        0        0  ...   53332   53400    53489    53538   \n",
       "1        0        0        0        0  ...   62378   63033    63595    63971   \n",
       "2        0        0        0        0  ...  101657  101913   102144   102369   \n",
       "\n",
       "   1/12/21  1/13/21  1/14/21  1/15/21  1/16/21  1/17/21  \n",
       "0    53584    53584    53775    53831    53938    53984  \n",
       "1    64627    65334    65994    66635    67216    67690  \n",
       "2   102641   102860   103127   103381   103611   103833  \n",
       "\n",
       "[3 rows x 366 columns]"
      ]
     },
     "execution_count": 3,
     "metadata": {},
     "output_type": "execute_result"
    }
   ],
   "source": [
    "df.head(3)"
   ]
  },
  {
   "cell_type": "markdown",
   "metadata": {},
   "source": [
    "# Select France's data"
   ]
  },
  {
   "cell_type": "code",
   "execution_count": 4,
   "metadata": {},
   "outputs": [],
   "source": [
    "exclusion_cols=['Province/State','Country/Region','Lat','Long']\n",
    "cols_dates=[col for col in df.columns if col not in exclusion_cols]"
   ]
  },
  {
   "cell_type": "code",
   "execution_count": 5,
   "metadata": {},
   "outputs": [
    {
     "name": "stdout",
     "output_type": "stream",
     "text": [
      "['1/22/20', '1/23/20', '1/24/20', '1/25/20', '1/26/20']\n"
     ]
    }
   ],
   "source": [
    "print(cols_dates[:5])"
   ]
  },
  {
   "cell_type": "code",
   "execution_count": 6,
   "metadata": {},
   "outputs": [],
   "source": [
    "condition=df['Country/Region']=='France'\n",
    "metropole=df['Province/State'].isnull()\n",
    "df_France=df.loc[condition&metropole,cols_dates].reset_index(drop=True)"
   ]
  },
  {
   "cell_type": "code",
   "execution_count": 7,
   "metadata": {},
   "outputs": [
    {
     "data": {
      "text/html": [
       "<div>\n",
       "<style scoped>\n",
       "    .dataframe tbody tr th:only-of-type {\n",
       "        vertical-align: middle;\n",
       "    }\n",
       "\n",
       "    .dataframe tbody tr th {\n",
       "        vertical-align: top;\n",
       "    }\n",
       "\n",
       "    .dataframe thead th {\n",
       "        text-align: right;\n",
       "    }\n",
       "</style>\n",
       "<table border=\"1\" class=\"dataframe\">\n",
       "  <thead>\n",
       "    <tr style=\"text-align: right;\">\n",
       "      <th></th>\n",
       "      <th>1/22/20</th>\n",
       "      <th>1/23/20</th>\n",
       "      <th>1/24/20</th>\n",
       "      <th>1/25/20</th>\n",
       "      <th>1/26/20</th>\n",
       "      <th>1/27/20</th>\n",
       "      <th>1/28/20</th>\n",
       "      <th>1/29/20</th>\n",
       "      <th>1/30/20</th>\n",
       "      <th>1/31/20</th>\n",
       "      <th>...</th>\n",
       "      <th>1/8/21</th>\n",
       "      <th>1/9/21</th>\n",
       "      <th>1/10/21</th>\n",
       "      <th>1/11/21</th>\n",
       "      <th>1/12/21</th>\n",
       "      <th>1/13/21</th>\n",
       "      <th>1/14/21</th>\n",
       "      <th>1/15/21</th>\n",
       "      <th>1/16/21</th>\n",
       "      <th>1/17/21</th>\n",
       "    </tr>\n",
       "  </thead>\n",
       "  <tbody>\n",
       "    <tr>\n",
       "      <th>0</th>\n",
       "      <td>0</td>\n",
       "      <td>0</td>\n",
       "      <td>2</td>\n",
       "      <td>3</td>\n",
       "      <td>3</td>\n",
       "      <td>3</td>\n",
       "      <td>4</td>\n",
       "      <td>5</td>\n",
       "      <td>5</td>\n",
       "      <td>5</td>\n",
       "      <td>...</td>\n",
       "      <td>2742349</td>\n",
       "      <td>2762120</td>\n",
       "      <td>2777921</td>\n",
       "      <td>2781503</td>\n",
       "      <td>2800770</td>\n",
       "      <td>2824473</td>\n",
       "      <td>2845701</td>\n",
       "      <td>2866769</td>\n",
       "      <td>2866769</td>\n",
       "      <td>2903975</td>\n",
       "    </tr>\n",
       "  </tbody>\n",
       "</table>\n",
       "<p>1 rows × 362 columns</p>\n",
       "</div>"
      ],
      "text/plain": [
       "   1/22/20  1/23/20  1/24/20  1/25/20  1/26/20  1/27/20  1/28/20  1/29/20  \\\n",
       "0        0        0        2        3        3        3        4        5   \n",
       "\n",
       "   1/30/20  1/31/20  ...   1/8/21   1/9/21  1/10/21  1/11/21  1/12/21  \\\n",
       "0        5        5  ...  2742349  2762120  2777921  2781503  2800770   \n",
       "\n",
       "   1/13/21  1/14/21  1/15/21  1/16/21  1/17/21  \n",
       "0  2824473  2845701  2866769  2866769  2903975  \n",
       "\n",
       "[1 rows x 362 columns]"
      ]
     },
     "execution_count": 7,
     "metadata": {},
     "output_type": "execute_result"
    }
   ],
   "source": [
    "df_France.head()"
   ]
  },
  {
   "cell_type": "markdown",
   "metadata": {},
   "source": [
    "## Turn column names into list of dates"
   ]
  },
  {
   "cell_type": "code",
   "execution_count": 8,
   "metadata": {},
   "outputs": [
    {
     "data": {
      "text/plain": [
       "362"
      ]
     },
     "execution_count": 8,
     "metadata": {},
     "output_type": "execute_result"
    }
   ],
   "source": [
    "cum_cases_list = df_France.loc[0,:].values.tolist()\n",
    "len(cum_cases_list)"
   ]
  },
  {
   "cell_type": "code",
   "execution_count": 9,
   "metadata": {},
   "outputs": [],
   "source": [
    "from dataPreProcessing import *"
   ]
  },
  {
   "cell_type": "code",
   "execution_count": 10,
   "metadata": {},
   "outputs": [
    {
     "data": {
      "text/plain": [
       "[Timestamp('2020-01-22 00:00:00'),\n",
       " Timestamp('2020-01-23 00:00:00'),\n",
       " Timestamp('2020-01-24 00:00:00'),\n",
       " Timestamp('2020-01-25 00:00:00')]"
      ]
     },
     "execution_count": 10,
     "metadata": {},
     "output_type": "execute_result"
    }
   ],
   "source": [
    "#turn column strings into dates\n",
    "time_str=df_France.columns.tolist()\n",
    "time=str2date(time_str)\n",
    "time[:4]"
   ]
  },
  {
   "cell_type": "code",
   "execution_count": 11,
   "metadata": {},
   "outputs": [
    {
     "data": {
      "text/plain": [
       "[0, 1, 1, 1, 1, 1, 1, 1, 1]"
      ]
     },
     "execution_count": 11,
     "metadata": {},
     "output_type": "execute_result"
    }
   ],
   "source": [
    "#finding the difference between two points in days\n",
    "time_diff_days=time_diff(time)\n",
    "time_diff_days[:9]"
   ]
  },
  {
   "cell_type": "code",
   "execution_count": 12,
   "metadata": {},
   "outputs": [
    {
     "name": "stdout",
     "output_type": "stream",
     "text": [
      "[0 1 2 3 4 5 6 7 8 9]\n"
     ]
    }
   ],
   "source": [
    "time_cumu=np.cumsum(time_diff_days)\n",
    "print(time_cumu[:10])"
   ]
  },
  {
   "cell_type": "markdown",
   "metadata": {},
   "source": [
    "## Find cases per day from cumulative data"
   ]
  },
  {
   "cell_type": "code",
   "execution_count": 13,
   "metadata": {},
   "outputs": [
    {
     "name": "stdout",
     "output_type": "stream",
     "text": [
      "['1/22/20', '1/23/20', '1/24/20']\n"
     ]
    }
   ],
   "source": [
    "dates_list=df_France.columns.to_list()\n",
    "print(dates_list[:3])"
   ]
  },
  {
   "cell_type": "code",
   "execution_count": 14,
   "metadata": {},
   "outputs": [
    {
     "name": "stdout",
     "output_type": "stream",
     "text": [
      "[0, 0, 2, 1]\n"
     ]
    }
   ],
   "source": [
    "#Getting difference between consecutive columns\n",
    "counts=cum2daily(df_France)\n",
    "print(counts[:4])"
   ]
  },
  {
   "cell_type": "code",
   "execution_count": 15,
   "metadata": {},
   "outputs": [
    {
     "data": {
      "text/plain": [
       "362"
      ]
     },
     "execution_count": 15,
     "metadata": {},
     "output_type": "execute_result"
    }
   ],
   "source": [
    "len(counts)"
   ]
  },
  {
   "cell_type": "code",
   "execution_count": 16,
   "metadata": {},
   "outputs": [
    {
     "data": {
      "text/plain": [
       "362"
      ]
     },
     "execution_count": 16,
     "metadata": {},
     "output_type": "execute_result"
    }
   ],
   "source": [
    "len(dates_list)"
   ]
  },
  {
   "cell_type": "markdown",
   "metadata": {},
   "source": [
    "# visualize data"
   ]
  },
  {
   "cell_type": "code",
   "execution_count": 17,
   "metadata": {},
   "outputs": [
    {
     "data": {
      "image/png": "[encoded data removed]",
      "text/plain": [
       "<Figure size 432x288 with 1 Axes>"
      ]
     },
     "metadata": {
      "needs_background": "light"
     },
     "output_type": "display_data"
    }
   ],
   "source": [
    "#create plot of cases per day\n",
    "fig,ax=plt.subplots()\n",
    "lines=ax.plot(dates_list, counts)\n",
    "ax.set(Title='Cases per day', xlabel='Date', ylabel='Case Count')\n",
    "ax.xaxis.set(ticks=range(1,len(dates_list),60))\n",
    "plt.show()\n"
   ]
  },
  {
   "cell_type": "code",
   "execution_count": 18,
   "metadata": {},
   "outputs": [
    {
     "data": {
      "text/html": [
       "<div>\n",
       "<style scoped>\n",
       "    .dataframe tbody tr th:only-of-type {\n",
       "        vertical-align: middle;\n",
       "    }\n",
       "\n",
       "    .dataframe tbody tr th {\n",
       "        vertical-align: top;\n",
       "    }\n",
       "\n",
       "    .dataframe thead th {\n",
       "        text-align: right;\n",
       "    }\n",
       "</style>\n",
       "<table border=\"1\" class=\"dataframe\">\n",
       "  <thead>\n",
       "    <tr style=\"text-align: right;\">\n",
       "      <th></th>\n",
       "      <th>time_stamp</th>\n",
       "      <th>counts</th>\n",
       "    </tr>\n",
       "  </thead>\n",
       "  <tbody>\n",
       "    <tr>\n",
       "      <th>0</th>\n",
       "      <td>2020-01-22</td>\n",
       "      <td>0</td>\n",
       "    </tr>\n",
       "    <tr>\n",
       "      <th>1</th>\n",
       "      <td>2020-01-23</td>\n",
       "      <td>0</td>\n",
       "    </tr>\n",
       "    <tr>\n",
       "      <th>2</th>\n",
       "      <td>2020-01-24</td>\n",
       "      <td>2</td>\n",
       "    </tr>\n",
       "  </tbody>\n",
       "</table>\n",
       "</div>"
      ],
      "text/plain": [
       "  time_stamp counts\n",
       "0 2020-01-22      0\n",
       "1 2020-01-23      0\n",
       "2 2020-01-24      2"
      ]
     },
     "execution_count": 18,
     "metadata": {},
     "output_type": "execute_result"
    }
   ],
   "source": [
    "df_France_counts_day = pd.DataFrame(data=np.array([time,counts]).T,columns=['time_stamp', 'counts'])\n",
    "df_France_counts_day.head(3)"
   ]
  },
  {
   "cell_type": "code",
   "execution_count": 19,
   "metadata": {},
   "outputs": [],
   "source": [
    "def moving_avg(in_ts,in_series, winlen):\n",
    "    \"\"\"\n",
    "    take a series and a timestamp, make them a df with the timestamp as index and take moving average of n window lengt\n",
    "    inputs:\n",
    "    in_ts: list of timestamps \n",
    "    in_series: list of integers of which the moving average is needed\n",
    "    winlen: integer of window length + d if days, s if second etc. example: '7d'\n",
    "    outputs:\n",
    "    df_out: df of 2 columns (1)timestamps and (2)moving average of in_series\n",
    "    \n",
    "    \"\"\"\n",
    "    df=pd.DataFrame(data=np.array([in_ts,in_series]).T,columns=['time_stamp', 'counts'])\n",
    "    df.index = df.time_stamp\n",
    "    window_moving_average = df['counts'].rolling(window=winlen).mean()\n",
    "    \n",
    "    return  window_moving_average  "
   ]
  },
  {
   "cell_type": "code",
   "execution_count": 20,
   "metadata": {},
   "outputs": [
    {
     "data": {
      "image/png": "[encoded data removed]",
      "text/plain": [
       "<Figure size 432x288 with 1 Axes>"
      ]
     },
     "metadata": {
      "needs_background": "light"
     },
     "output_type": "display_data"
    }
   ],
   "source": [
    "# moving average of 7 days \n",
    "seven_day_window_mean = moving_avg(time, counts, '7d')\n",
    "\n",
    "seven_day_window_mean.plot()\n",
    "plt.show()"
   ]
  },
  {
   "cell_type": "code",
   "execution_count": 21,
   "metadata": {},
   "outputs": [
    {
     "data": {
      "image/png": "[encoded data removed]",
      "text/plain": [
       "<Figure size 432x288 with 1 Axes>"
      ]
     },
     "metadata": {
      "needs_background": "light"
     },
     "output_type": "display_data"
    }
   ],
   "source": [
    "# moving average of 30 days = 1 month \n",
    "thirty_day_window_mean = moving_avg(time, counts, '30d')\n",
    "\n",
    "thirty_day_window_mean.plot()\n",
    "plt.show()"
   ]
  },
  {
   "cell_type": "code",
   "execution_count": 22,
   "metadata": {},
   "outputs": [
    {
     "data": {
      "image/png": "[encoded data removed]",
      "text/plain": [
       "<Figure size 432x288 with 1 Axes>"
      ]
     },
     "metadata": {
      "needs_background": "light"
     },
     "output_type": "display_data"
    }
   ],
   "source": [
    "#create plot of cases per week\n",
    "fig,ax=plt.subplots()\n",
    "lines=ax.plot(dates_list[::7], seven_day_window_mean.values[::7])\n",
    "ax.set(Title='Average Cases per week', xlabel='Date', ylabel='Case Count')\n",
    "ax.xaxis.set(ticks=range(1,len(dates_list)//7,7))\n",
    "plt.show()"
   ]
  },
  {
   "cell_type": "code",
   "execution_count": 23,
   "metadata": {},
   "outputs": [
    {
     "data": {
      "image/png": "[encoded data removed]",
      "text/plain": [
       "<Figure size 432x288 with 1 Axes>"
      ]
     },
     "metadata": {
      "needs_background": "light"
     },
     "output_type": "display_data"
    }
   ],
   "source": [
    "#create plot of cases per month\n",
    "fig,ax=plt.subplots()\n",
    "lines=ax.plot(dates_list[::30], thirty_day_window_mean.values[::30])\n",
    "ax.set(Title='Average Cases per month', xlabel='Date', ylabel='Case Count')\n",
    "ax.xaxis.set(ticks=range(1,len(dates_list)//30,2))\n",
    "plt.show()"
   ]
  },
  {
   "cell_type": "code",
   "execution_count": 24,
   "metadata": {
    "scrolled": true
   },
   "outputs": [
    {
     "data": {
      "image/png": "[encoded data removed]",
      "text/plain": [
       "<Figure size 432x288 with 1 Axes>"
      ]
     },
     "metadata": {
      "needs_background": "light"
     },
     "output_type": "display_data"
    }
   ],
   "source": [
    "#create plot of cummulative cases versus days\n",
    "fig,ax=plt.subplots()\n",
    "lines=ax.plot(dates_list,cum_cases_list)\n",
    "ax.set(Title='Cumulative cases per month', xlabel='Date', ylabel='Case Count')\n",
    "ax.xaxis.set(ticks=range(1,len(dates_list),50))\n",
    "plt.show()"
   ]
  },
  {
   "cell_type": "code",
   "execution_count": 25,
   "metadata": {},
   "outputs": [
    {
     "data": {
      "image/png": "[encoded data removed]",
      "text/plain": [
       "<Figure size 432x288 with 1 Axes>"
      ]
     },
     "metadata": {
      "needs_background": "light"
     },
     "output_type": "display_data"
    }
   ],
   "source": [
    "#create plot of cases Vs weeks\n",
    "fig,ax=plt.subplots()\n",
    "lines=ax.plot(dates_list[::7],cum_cases_list[::7])\n",
    "ax.set(Title='Cumulative cases per week', xlabel='Date', ylabel='Case Count')\n",
    "ax.xaxis.set(ticks=range(1,50,6))\n",
    "plt.show()"
   ]
  },
  {
   "cell_type": "code",
   "execution_count": 26,
   "metadata": {},
   "outputs": [
    {
     "data": {
      "image/png": "[encoded data removed]",
      "text/plain": [
       "<Figure size 432x288 with 1 Axes>"
      ]
     },
     "metadata": {
      "needs_background": "light"
     },
     "output_type": "display_data"
    }
   ],
   "source": [
    "#create plot of cases Vs months\n",
    "fig,ax=plt.subplots()\n",
    "lines=ax.plot(dates_list[::30],cum_cases_list[::30])\n",
    "ax.set(Title='Cumulative cases per month', xlabel='Date', ylabel='Case Count')\n",
    "ax.xaxis.set(ticks=range(1,10,2))\n",
    "plt.show()"
   ]
  },
  {
   "cell_type": "code",
   "execution_count": 27,
   "metadata": {},
   "outputs": [],
   "source": [
    "data = np.array([dates_list, time_cumu, counts, cum_cases_list, \n",
    "                 seven_day_window_mean.values,\n",
    "                 thirty_day_window_mean.values]).T\n",
    "df_counts_per_day = pd.DataFrame(data=data, columns = ['Date', 'days_since_outbreak',\n",
    "                                                       'Case Count', 'Cumulative Cases',\n",
    "                                                       'mov_av_7d','mov_av_30d'])"
   ]
  },
  {
   "cell_type": "code",
   "execution_count": 28,
   "metadata": {},
   "outputs": [
    {
     "data": {
      "text/html": [
       "<div>\n",
       "<style scoped>\n",
       "    .dataframe tbody tr th:only-of-type {\n",
       "        vertical-align: middle;\n",
       "    }\n",
       "\n",
       "    .dataframe tbody tr th {\n",
       "        vertical-align: top;\n",
       "    }\n",
       "\n",
       "    .dataframe thead th {\n",
       "        text-align: right;\n",
       "    }\n",
       "</style>\n",
       "<table border=\"1\" class=\"dataframe\">\n",
       "  <thead>\n",
       "    <tr style=\"text-align: right;\">\n",
       "      <th></th>\n",
       "      <th>Date</th>\n",
       "      <th>days_since_outbreak</th>\n",
       "      <th>Case Count</th>\n",
       "      <th>Cumulative Cases</th>\n",
       "      <th>mov_av_7d</th>\n",
       "      <th>mov_av_30d</th>\n",
       "    </tr>\n",
       "  </thead>\n",
       "  <tbody>\n",
       "    <tr>\n",
       "      <th>0</th>\n",
       "      <td>1/22/20</td>\n",
       "      <td>0</td>\n",
       "      <td>0</td>\n",
       "      <td>0</td>\n",
       "      <td>0.0</td>\n",
       "      <td>0.0</td>\n",
       "    </tr>\n",
       "    <tr>\n",
       "      <th>1</th>\n",
       "      <td>1/23/20</td>\n",
       "      <td>1</td>\n",
       "      <td>0</td>\n",
       "      <td>0</td>\n",
       "      <td>0.0</td>\n",
       "      <td>0.0</td>\n",
       "    </tr>\n",
       "    <tr>\n",
       "      <th>2</th>\n",
       "      <td>1/24/20</td>\n",
       "      <td>2</td>\n",
       "      <td>2</td>\n",
       "      <td>2</td>\n",
       "      <td>0.6666666666666666</td>\n",
       "      <td>0.6666666666666666</td>\n",
       "    </tr>\n",
       "    <tr>\n",
       "      <th>3</th>\n",
       "      <td>1/25/20</td>\n",
       "      <td>3</td>\n",
       "      <td>1</td>\n",
       "      <td>3</td>\n",
       "      <td>0.75</td>\n",
       "      <td>0.75</td>\n",
       "    </tr>\n",
       "  </tbody>\n",
       "</table>\n",
       "</div>"
      ],
      "text/plain": [
       "      Date days_since_outbreak Case Count Cumulative Cases  \\\n",
       "0  1/22/20                   0          0                0   \n",
       "1  1/23/20                   1          0                0   \n",
       "2  1/24/20                   2          2                2   \n",
       "3  1/25/20                   3          1                3   \n",
       "\n",
       "            mov_av_7d          mov_av_30d  \n",
       "0                 0.0                 0.0  \n",
       "1                 0.0                 0.0  \n",
       "2  0.6666666666666666  0.6666666666666666  \n",
       "3                0.75                0.75  "
      ]
     },
     "execution_count": 28,
     "metadata": {},
     "output_type": "execute_result"
    }
   ],
   "source": [
    "df_counts_per_day.head(4)"
   ]
  },
  {
   "cell_type": "code",
   "execution_count": 29,
   "metadata": {},
   "outputs": [],
   "source": [
    "def targets(df, win_size, column):\n",
    "    \"\"\" takes every element of the input df and returns the following window of length 'win_size'\n",
    "    inputs:\n",
    "    df: dataframe \n",
    "    win_size: integer corresponding to the window size\n",
    "    column: column of mving average\n",
    "    outputs:\n",
    "    y: list containing the i+win_size day\"\"\"\n",
    "    y=[]\n",
    "    for i in range(len(df)-win_size):\n",
    "        y.append(float(df.loc[i+win_size,column]))\n",
    "    return y\n"
   ]
  },
  {
   "cell_type": "code",
   "execution_count": 30,
   "metadata": {},
   "outputs": [],
   "source": [
    "y = targets(df_counts_per_day, 7, 'mov_av_7d')"
   ]
  },
  {
   "cell_type": "code",
   "execution_count": 31,
   "metadata": {},
   "outputs": [],
   "source": [
    "features = [col for col in df_counts_per_day.columns if col!='Date']"
   ]
  },
  {
   "cell_type": "code",
   "execution_count": 32,
   "metadata": {},
   "outputs": [],
   "source": [
    "def create_features(df, win_size, feat):\n",
    "    \"\"\"for each i take all data for the past win_size days\n",
    "    inputs:\n",
    "    df: dataframe \n",
    "    win_zise: integer corresponding to the window size\n",
    "    feat: columns from which you take data\n",
    "    outputs:\n",
    "    X:array containing all features \n",
    "    \"\"\"\n",
    "    X=[]    \n",
    "    for i in range(len(df)-win_size):\n",
    "        data_point = []\n",
    "        for col in feat:\n",
    "            data_point.extend(df.loc[i:i+win_size-1,col]) #pandas : gets extra element\n",
    "        X.append(data_point)\n",
    "    X = np.array(X)\n",
    "    return X\n",
    "                                        \n",
    "X=create_features(df_counts_per_day, 7, features)"
   ]
  },
  {
   "cell_type": "markdown",
   "metadata": {},
   "source": [
    "# Splitting the dataset for evaluation\n",
    "\n",
    "- Using cross validation\n",
    "- Testing models on 3 labels:\n",
    "    - True counts\n",
    "    - Moving average weekly\n",
    "    - Moving average monthly"
   ]
  },
  {
   "cell_type": "markdown",
   "metadata": {},
   "source": [
    "## True counts: best results"
   ]
  },
  {
   "cell_type": "code",
   "execution_count": 67,
   "metadata": {},
   "outputs": [
    {
     "name": "stdout",
     "output_type": "stream",
     "text": [
      "(355,)\n",
      "(355, 1)\n",
      "(355, 35)\n"
     ]
    }
   ],
   "source": [
    "y = targets(df_counts_per_day, 7, 'Case Count')\n",
    "X=create_features(df_counts_per_day, 7, features)\n",
    "colsFeatures = [feat + '_day_' + str(i) for feat in features for i in range(7)]\n",
    "\n",
    "from sklearn.preprocessing import MinMaxScaler\n",
    "scaler = MinMaxScaler()\n",
    "scaler.fit(X)\n",
    "X = scaler.transform(X)\n",
    "\n",
    "df_ML = pd.DataFrame(data=X,columns=colsFeatures)\n",
    "df_ML['Target'] = y\n",
    "\n",
    "y=df_ML['Target'].values\n",
    "print(y.shape)\n",
    "y=y.reshape(-1,1)\n",
    "print(y.shape)\n",
    "X=df_ML[colsFeatures].values\n",
    "print(X.shape)"
   ]
  },
  {
   "cell_type": "markdown",
   "metadata": {},
   "source": [
    "## Cross validation"
   ]
  },
  {
   "cell_type": "code",
   "execution_count": 68,
   "metadata": {},
   "outputs": [],
   "source": [
    "from sklearn.linear_model import Lasso\n",
    "from sklearn.model_selection import GridSearchCV"
   ]
  },
  {
   "cell_type": "markdown",
   "metadata": {},
   "source": [
    "### Lasso regression"
   ]
  },
  {
   "cell_type": "code",
   "execution_count": 69,
   "metadata": {},
   "outputs": [
    {
     "name": "stdout",
     "output_type": "stream",
     "text": [
      "Fitting 5 folds for each of 11 candidates, totalling 55 fits\n"
     ]
    },
    {
     "name": "stderr",
     "output_type": "stream",
     "text": [
      "[Parallel(n_jobs=-1)]: Using backend LokyBackend with 12 concurrent workers.\n",
      "[Parallel(n_jobs=-1)]: Done  17 tasks      | elapsed:    2.1s\n",
      "[Parallel(n_jobs=-1)]: Done  55 out of  55 | elapsed:    2.1s finished\n"
     ]
    }
   ],
   "source": [
    "lasso_regression = Lasso()\n",
    "parameters = {'alpha':[10**-5, 10**-4, 10**-3, 10**-2, 0.1, 1, 10, 10**2, 10**3, 10**4, 10**5]}\n",
    "clf = GridSearchCV(lasso_regression, parameters, cv=5, scoring='r2', \n",
    "                   verbose = 2, return_train_score=True, n_jobs = -1)\n",
    "clf.fit(X, y)\n",
    "\n",
    "results = pd.DataFrame.from_dict(clf.cv_results_)"
   ]
  },
  {
   "cell_type": "code",
   "execution_count": 70,
   "metadata": {},
   "outputs": [
    {
     "data": {
      "text/html": [
       "<div>\n",
       "<style scoped>\n",
       "    .dataframe tbody tr th:only-of-type {\n",
       "        vertical-align: middle;\n",
       "    }\n",
       "\n",
       "    .dataframe tbody tr th {\n",
       "        vertical-align: top;\n",
       "    }\n",
       "\n",
       "    .dataframe thead th {\n",
       "        text-align: right;\n",
       "    }\n",
       "</style>\n",
       "<table border=\"1\" class=\"dataframe\">\n",
       "  <thead>\n",
       "    <tr style=\"text-align: right;\">\n",
       "      <th></th>\n",
       "      <th>mean_fit_time</th>\n",
       "      <th>std_fit_time</th>\n",
       "      <th>mean_score_time</th>\n",
       "      <th>std_score_time</th>\n",
       "      <th>param_alpha</th>\n",
       "      <th>params</th>\n",
       "      <th>split0_test_score</th>\n",
       "      <th>split1_test_score</th>\n",
       "      <th>split2_test_score</th>\n",
       "      <th>split3_test_score</th>\n",
       "      <th>...</th>\n",
       "      <th>mean_test_score</th>\n",
       "      <th>std_test_score</th>\n",
       "      <th>rank_test_score</th>\n",
       "      <th>split0_train_score</th>\n",
       "      <th>split1_train_score</th>\n",
       "      <th>split2_train_score</th>\n",
       "      <th>split3_train_score</th>\n",
       "      <th>split4_train_score</th>\n",
       "      <th>mean_train_score</th>\n",
       "      <th>std_train_score</th>\n",
       "    </tr>\n",
       "  </thead>\n",
       "  <tbody>\n",
       "    <tr>\n",
       "      <th>7</th>\n",
       "      <td>0.006962</td>\n",
       "      <td>0.004054</td>\n",
       "      <td>0.001552</td>\n",
       "      <td>0.00109</td>\n",
       "      <td>100</td>\n",
       "      <td>{'alpha': 100}</td>\n",
       "      <td>-0.082117</td>\n",
       "      <td>-0.168805</td>\n",
       "      <td>-0.442174</td>\n",
       "      <td>0.01463</td>\n",
       "      <td>...</td>\n",
       "      <td>-0.439784</td>\n",
       "      <td>0.561374</td>\n",
       "      <td>1</td>\n",
       "      <td>0.533751</td>\n",
       "      <td>0.5707</td>\n",
       "      <td>0.537843</td>\n",
       "      <td>0.603441</td>\n",
       "      <td>0.620193</td>\n",
       "      <td>0.573186</td>\n",
       "      <td>0.034454</td>\n",
       "    </tr>\n",
       "  </tbody>\n",
       "</table>\n",
       "<p>1 rows × 21 columns</p>\n",
       "</div>"
      ],
      "text/plain": [
       "   mean_fit_time  std_fit_time  mean_score_time  std_score_time param_alpha  \\\n",
       "7       0.006962      0.004054         0.001552         0.00109         100   \n",
       "\n",
       "           params  split0_test_score  split1_test_score  split2_test_score  \\\n",
       "7  {'alpha': 100}          -0.082117          -0.168805          -0.442174   \n",
       "\n",
       "   split3_test_score  ...  mean_test_score  std_test_score  rank_test_score  \\\n",
       "7            0.01463  ...        -0.439784        0.561374                1   \n",
       "\n",
       "   split0_train_score  split1_train_score  split2_train_score  \\\n",
       "7            0.533751              0.5707            0.537843   \n",
       "\n",
       "   split3_train_score  split4_train_score  mean_train_score  std_train_score  \n",
       "7            0.603441            0.620193          0.573186         0.034454  \n",
       "\n",
       "[1 rows x 21 columns]"
      ]
     },
     "execution_count": 70,
     "metadata": {},
     "output_type": "execute_result"
    }
   ],
   "source": [
    "cond = results['mean_test_score']==results['mean_test_score'].max()\n",
    "\n",
    "results[cond]"
   ]
  },
  {
   "cell_type": "markdown",
   "metadata": {},
   "source": [
    "### SVR regression"
   ]
  },
  {
   "cell_type": "code",
   "execution_count": 71,
   "metadata": {},
   "outputs": [
    {
     "name": "stdout",
     "output_type": "stream",
     "text": [
      "Fitting 5 folds for each of 2 candidates, totalling 10 fits\n"
     ]
    },
    {
     "name": "stderr",
     "output_type": "stream",
     "text": [
      "[Parallel(n_jobs=-1)]: Using backend LokyBackend with 12 concurrent workers.\n",
      "[Parallel(n_jobs=-1)]: Done   5 out of  10 | elapsed:    0.0s remaining:    0.0s\n",
      "[Parallel(n_jobs=-1)]: Done  10 out of  10 | elapsed:    0.0s finished\n",
      "C:\\Users\\panlo\\anaconda3\\lib\\site-packages\\sklearn\\utils\\validation.py:73: DataConversionWarning: A column-vector y was passed when a 1d array was expected. Please change the shape of y to (n_samples, ), for example using ravel().\n",
      "  return f(**kwargs)\n"
     ]
    }
   ],
   "source": [
    "from sklearn.svm import SVR\n",
    "\n",
    "svr_regression = SVR(kernel='rbf')\n",
    "parameters = {'kernel':['poly', 'sigmoid'],}\n",
    "                #'C':[10**-5, 10**-4, 10**-3, 10**-2, 0.1, 1, 10, 10**2, 10**3, 10**4, 10**5]}\n",
    "clf = GridSearchCV(svr_regression, parameters, cv=5, scoring='r2', \n",
    "                   verbose = 2, return_train_score=True, n_jobs = -1)\n",
    "clf.fit(X, y)\n",
    "\n",
    "results = pd.DataFrame.from_dict(clf.cv_results_)"
   ]
  },
  {
   "cell_type": "code",
   "execution_count": 72,
   "metadata": {
    "scrolled": true
   },
   "outputs": [
    {
     "data": {
      "text/html": [
       "<div>\n",
       "<style scoped>\n",
       "    .dataframe tbody tr th:only-of-type {\n",
       "        vertical-align: middle;\n",
       "    }\n",
       "\n",
       "    .dataframe tbody tr th {\n",
       "        vertical-align: top;\n",
       "    }\n",
       "\n",
       "    .dataframe thead th {\n",
       "        text-align: right;\n",
       "    }\n",
       "</style>\n",
       "<table border=\"1\" class=\"dataframe\">\n",
       "  <thead>\n",
       "    <tr style=\"text-align: right;\">\n",
       "      <th></th>\n",
       "      <th>mean_fit_time</th>\n",
       "      <th>std_fit_time</th>\n",
       "      <th>mean_score_time</th>\n",
       "      <th>std_score_time</th>\n",
       "      <th>param_kernel</th>\n",
       "      <th>params</th>\n",
       "      <th>split0_test_score</th>\n",
       "      <th>split1_test_score</th>\n",
       "      <th>split2_test_score</th>\n",
       "      <th>split3_test_score</th>\n",
       "      <th>...</th>\n",
       "      <th>mean_test_score</th>\n",
       "      <th>std_test_score</th>\n",
       "      <th>rank_test_score</th>\n",
       "      <th>split0_train_score</th>\n",
       "      <th>split1_train_score</th>\n",
       "      <th>split2_train_score</th>\n",
       "      <th>split3_train_score</th>\n",
       "      <th>split4_train_score</th>\n",
       "      <th>mean_train_score</th>\n",
       "      <th>std_train_score</th>\n",
       "    </tr>\n",
       "  </thead>\n",
       "  <tbody>\n",
       "    <tr>\n",
       "      <th>0</th>\n",
       "      <td>0.009847</td>\n",
       "      <td>0.001059</td>\n",
       "      <td>0.003375</td>\n",
       "      <td>0.001105</td>\n",
       "      <td>poly</td>\n",
       "      <td>{'kernel': 'poly'}</td>\n",
       "      <td>-0.558815</td>\n",
       "      <td>-0.022649</td>\n",
       "      <td>-0.794146</td>\n",
       "      <td>-0.560891</td>\n",
       "      <td>...</td>\n",
       "      <td>-0.348891</td>\n",
       "      <td>0.370489</td>\n",
       "      <td>1</td>\n",
       "      <td>0.106223</td>\n",
       "      <td>0.096319</td>\n",
       "      <td>0.103276</td>\n",
       "      <td>0.309568</td>\n",
       "      <td>0.279695</td>\n",
       "      <td>0.179016</td>\n",
       "      <td>0.094925</td>\n",
       "    </tr>\n",
       "  </tbody>\n",
       "</table>\n",
       "<p>1 rows × 21 columns</p>\n",
       "</div>"
      ],
      "text/plain": [
       "   mean_fit_time  std_fit_time  mean_score_time  std_score_time param_kernel  \\\n",
       "0       0.009847      0.001059         0.003375        0.001105         poly   \n",
       "\n",
       "               params  split0_test_score  split1_test_score  \\\n",
       "0  {'kernel': 'poly'}          -0.558815          -0.022649   \n",
       "\n",
       "   split2_test_score  split3_test_score  ...  mean_test_score  std_test_score  \\\n",
       "0          -0.794146          -0.560891  ...        -0.348891        0.370489   \n",
       "\n",
       "   rank_test_score  split0_train_score  split1_train_score  \\\n",
       "0                1            0.106223            0.096319   \n",
       "\n",
       "   split2_train_score  split3_train_score  split4_train_score  \\\n",
       "0            0.103276            0.309568            0.279695   \n",
       "\n",
       "   mean_train_score  std_train_score  \n",
       "0          0.179016         0.094925  \n",
       "\n",
       "[1 rows x 21 columns]"
      ]
     },
     "execution_count": 72,
     "metadata": {},
     "output_type": "execute_result"
    }
   ],
   "source": [
    "cond = results['mean_test_score']==results['mean_test_score'].max()\n",
    "\n",
    "results[cond]"
   ]
  },
  {
   "cell_type": "markdown",
   "metadata": {},
   "source": [
    "### Bayesian Ridge regression"
   ]
  },
  {
   "cell_type": "code",
   "execution_count": 73,
   "metadata": {},
   "outputs": [
    {
     "name": "stdout",
     "output_type": "stream",
     "text": [
      "Fitting 5 folds for each of 121 candidates, totalling 605 fits\n"
     ]
    },
    {
     "name": "stderr",
     "output_type": "stream",
     "text": [
      "[Parallel(n_jobs=-1)]: Using backend LokyBackend with 12 concurrent workers.\n",
      "[Parallel(n_jobs=-1)]: Done  17 tasks      | elapsed:    0.0s\n",
      "[Parallel(n_jobs=-1)]: Done 537 tasks      | elapsed:    0.8s\n",
      "[Parallel(n_jobs=-1)]: Done 605 out of 605 | elapsed:    0.9s finished\n",
      "C:\\Users\\panlo\\anaconda3\\lib\\site-packages\\sklearn\\utils\\validation.py:73: DataConversionWarning: A column-vector y was passed when a 1d array was expected. Please change the shape of y to (n_samples, ), for example using ravel().\n",
      "  return f(**kwargs)\n"
     ]
    }
   ],
   "source": [
    "from sklearn import linear_model\n",
    "\n",
    "reg = linear_model.BayesianRidge()\n",
    "parameters = {'alpha_1':[10**-5, 10**-4, 10**-3, 10**-2, 0.1, 1, 10, 10**2, 10**3, 10**4, 10**5],\n",
    "             'alpha_2':[10**-5, 10**-4, 10**-3, 10**-2, 0.1, 1, 10, 10**2, 10**3, 10**4, 10**5]}\n",
    "clf = GridSearchCV(reg, parameters, cv=5, scoring='r2', \n",
    "                   verbose = 2, return_train_score=True, n_jobs = -1)\n",
    "clf.fit(X, y)\n",
    "\n",
    "results = pd.DataFrame.from_dict(clf.cv_results_)"
   ]
  },
  {
   "cell_type": "code",
   "execution_count": 74,
   "metadata": {},
   "outputs": [
    {
     "data": {
      "text/html": [
       "<div>\n",
       "<style scoped>\n",
       "    .dataframe tbody tr th:only-of-type {\n",
       "        vertical-align: middle;\n",
       "    }\n",
       "\n",
       "    .dataframe tbody tr th {\n",
       "        vertical-align: top;\n",
       "    }\n",
       "\n",
       "    .dataframe thead th {\n",
       "        text-align: right;\n",
       "    }\n",
       "</style>\n",
       "<table border=\"1\" class=\"dataframe\">\n",
       "  <thead>\n",
       "    <tr style=\"text-align: right;\">\n",
       "      <th></th>\n",
       "      <th>mean_fit_time</th>\n",
       "      <th>std_fit_time</th>\n",
       "      <th>mean_score_time</th>\n",
       "      <th>std_score_time</th>\n",
       "      <th>param_alpha_1</th>\n",
       "      <th>param_alpha_2</th>\n",
       "      <th>params</th>\n",
       "      <th>split0_test_score</th>\n",
       "      <th>split1_test_score</th>\n",
       "      <th>split2_test_score</th>\n",
       "      <th>...</th>\n",
       "      <th>mean_test_score</th>\n",
       "      <th>std_test_score</th>\n",
       "      <th>rank_test_score</th>\n",
       "      <th>split0_train_score</th>\n",
       "      <th>split1_train_score</th>\n",
       "      <th>split2_train_score</th>\n",
       "      <th>split3_train_score</th>\n",
       "      <th>split4_train_score</th>\n",
       "      <th>mean_train_score</th>\n",
       "      <th>std_train_score</th>\n",
       "    </tr>\n",
       "  </thead>\n",
       "  <tbody>\n",
       "    <tr>\n",
       "      <th>10</th>\n",
       "      <td>0.015045</td>\n",
       "      <td>0.009821</td>\n",
       "      <td>0.002632</td>\n",
       "      <td>0.002183</td>\n",
       "      <td>1e-05</td>\n",
       "      <td>100000</td>\n",
       "      <td>{'alpha_1': 1e-05, 'alpha_2': 100000}</td>\n",
       "      <td>-0.796545</td>\n",
       "      <td>-0.715157</td>\n",
       "      <td>-2.032839</td>\n",
       "      <td>...</td>\n",
       "      <td>-4.932746</td>\n",
       "      <td>8.174365</td>\n",
       "      <td>1</td>\n",
       "      <td>0.569872</td>\n",
       "      <td>0.639957</td>\n",
       "      <td>0.57117</td>\n",
       "      <td>0.616914</td>\n",
       "      <td>0.671554</td>\n",
       "      <td>0.613893</td>\n",
       "      <td>0.039437</td>\n",
       "    </tr>\n",
       "  </tbody>\n",
       "</table>\n",
       "<p>1 rows × 22 columns</p>\n",
       "</div>"
      ],
      "text/plain": [
       "    mean_fit_time  std_fit_time  mean_score_time  std_score_time  \\\n",
       "10       0.015045      0.009821         0.002632        0.002183   \n",
       "\n",
       "   param_alpha_1 param_alpha_2                                 params  \\\n",
       "10         1e-05        100000  {'alpha_1': 1e-05, 'alpha_2': 100000}   \n",
       "\n",
       "    split0_test_score  split1_test_score  split2_test_score  ...  \\\n",
       "10          -0.796545          -0.715157          -2.032839  ...   \n",
       "\n",
       "    mean_test_score  std_test_score  rank_test_score  split0_train_score  \\\n",
       "10        -4.932746        8.174365                1            0.569872   \n",
       "\n",
       "    split1_train_score  split2_train_score  split3_train_score  \\\n",
       "10            0.639957             0.57117            0.616914   \n",
       "\n",
       "    split4_train_score  mean_train_score  std_train_score  \n",
       "10            0.671554          0.613893         0.039437  \n",
       "\n",
       "[1 rows x 22 columns]"
      ]
     },
     "execution_count": 74,
     "metadata": {},
     "output_type": "execute_result"
    }
   ],
   "source": [
    "cond = results['mean_test_score']==results['mean_test_score'].max()\n",
    "\n",
    "results[cond]"
   ]
  },
  {
   "cell_type": "code",
   "execution_count": 75,
   "metadata": {},
   "outputs": [],
   "source": [
    "from sklearn.model_selection import train_test_split\n",
    "\n",
    "X_train, X_valid, y_train, y_valid = train_test_split(X,y, test_size=0.33, random_state=42)"
   ]
  },
  {
   "cell_type": "code",
   "execution_count": 76,
   "metadata": {},
   "outputs": [
    {
     "name": "stderr",
     "output_type": "stream",
     "text": [
      "C:\\Users\\panlo\\anaconda3\\lib\\site-packages\\sklearn\\utils\\validation.py:73: DataConversionWarning: A column-vector y was passed when a 1d array was expected. Please change the shape of y to (n_samples, ), for example using ravel().\n",
      "  return f(**kwargs)\n"
     ]
    },
    {
     "data": {
      "text/plain": [
       "array([ 8251.85784723,   584.62573901, 16808.03226102,  1911.80561041,\n",
       "        2581.55587883, 15284.11245126,   228.70325734,  2683.15110977,\n",
       "        1105.43586666, 21170.8376669 ])"
      ]
     },
     "execution_count": 76,
     "metadata": {},
     "output_type": "execute_result"
    }
   ],
   "source": [
    "clf.best_estimator_.fit(X_train,y_train)\n",
    "clf.best_estimator_.predict(X_valid)[:10]"
   ]
  },
  {
   "cell_type": "code",
   "execution_count": 77,
   "metadata": {},
   "outputs": [
    {
     "data": {
      "text/plain": [
       "array([[10416.],\n",
       "       [  508.],\n",
       "       [15937.],\n",
       "       [ 1339.],\n",
       "       [ 2913.],\n",
       "       [ 3030.],\n",
       "       [    0.],\n",
       "       [ 3889.],\n",
       "       [  341.],\n",
       "       [28359.]])"
      ]
     },
     "execution_count": 77,
     "metadata": {},
     "output_type": "execute_result"
    }
   ],
   "source": [
    "y_valid[:10]"
   ]
  },
  {
   "cell_type": "markdown",
   "metadata": {},
   "source": [
    "## 7 day average counts: best results"
   ]
  },
  {
   "cell_type": "code",
   "execution_count": 78,
   "metadata": {},
   "outputs": [
    {
     "name": "stdout",
     "output_type": "stream",
     "text": [
      "(355,)\n",
      "(355, 1)\n",
      "(355, 35)\n"
     ]
    }
   ],
   "source": [
    "y = targets(df_counts_per_day, 7, 'mov_av_7d')\n",
    "X=create_features(df_counts_per_day, 7, features)\n",
    "colsFeatures = [feat + '_day_' + str(i) for feat in features for i in range(7)]\n",
    "\n",
    "\n",
    "from sklearn.preprocessing import MinMaxScaler\n",
    "scaler = MinMaxScaler()\n",
    "scaler.fit(X)\n",
    "X = scaler.transform(X)\n",
    "\n",
    "df_ML = pd.DataFrame(data=X,columns=colsFeatures)\n",
    "df_ML['Target'] = y\n",
    "\n",
    "y=df_ML['Target'].values\n",
    "print(y.shape)\n",
    "y=y.reshape(-1,1)\n",
    "print(y.shape)\n",
    "X=df_ML[colsFeatures].values\n",
    "print(X.shape)"
   ]
  },
  {
   "cell_type": "markdown",
   "metadata": {},
   "source": [
    "## Cross validation"
   ]
  },
  {
   "cell_type": "markdown",
   "metadata": {},
   "source": [
    "### Lasso regression"
   ]
  },
  {
   "cell_type": "code",
   "execution_count": 79,
   "metadata": {},
   "outputs": [
    {
     "name": "stdout",
     "output_type": "stream",
     "text": [
      "Fitting 5 folds for each of 11 candidates, totalling 55 fits\n"
     ]
    },
    {
     "name": "stderr",
     "output_type": "stream",
     "text": [
      "[Parallel(n_jobs=-1)]: Using backend LokyBackend with 12 concurrent workers.\n",
      "[Parallel(n_jobs=-1)]: Done  17 tasks      | elapsed:    0.1s\n",
      "[Parallel(n_jobs=-1)]: Done  55 out of  55 | elapsed:    0.1s finished\n"
     ]
    }
   ],
   "source": [
    "lasso_regression = Lasso()\n",
    "parameters = {'alpha':[10**-5, 10**-4, 10**-3, 10**-2, 0.1, 1, 10, 10**2, 10**3, 10**4, 10**5]}\n",
    "clf = GridSearchCV(lasso_regression, parameters, cv=5, scoring='r2', \n",
    "                   verbose = 2, return_train_score=True, n_jobs = -1)\n",
    "clf.fit(X, y)\n",
    "\n",
    "results = pd.DataFrame.from_dict(clf.cv_results_)"
   ]
  },
  {
   "cell_type": "code",
   "execution_count": 80,
   "metadata": {},
   "outputs": [
    {
     "data": {
      "text/html": [
       "<div>\n",
       "<style scoped>\n",
       "    .dataframe tbody tr th:only-of-type {\n",
       "        vertical-align: middle;\n",
       "    }\n",
       "\n",
       "    .dataframe tbody tr th {\n",
       "        vertical-align: top;\n",
       "    }\n",
       "\n",
       "    .dataframe thead th {\n",
       "        text-align: right;\n",
       "    }\n",
       "</style>\n",
       "<table border=\"1\" class=\"dataframe\">\n",
       "  <thead>\n",
       "    <tr style=\"text-align: right;\">\n",
       "      <th></th>\n",
       "      <th>mean_fit_time</th>\n",
       "      <th>std_fit_time</th>\n",
       "      <th>mean_score_time</th>\n",
       "      <th>std_score_time</th>\n",
       "      <th>param_alpha</th>\n",
       "      <th>params</th>\n",
       "      <th>split0_test_score</th>\n",
       "      <th>split1_test_score</th>\n",
       "      <th>split2_test_score</th>\n",
       "      <th>split3_test_score</th>\n",
       "      <th>...</th>\n",
       "      <th>mean_test_score</th>\n",
       "      <th>std_test_score</th>\n",
       "      <th>rank_test_score</th>\n",
       "      <th>split0_train_score</th>\n",
       "      <th>split1_train_score</th>\n",
       "      <th>split2_train_score</th>\n",
       "      <th>split3_train_score</th>\n",
       "      <th>split4_train_score</th>\n",
       "      <th>mean_train_score</th>\n",
       "      <th>std_train_score</th>\n",
       "    </tr>\n",
       "  </thead>\n",
       "  <tbody>\n",
       "    <tr>\n",
       "      <th>6</th>\n",
       "      <td>0.016</td>\n",
       "      <td>0.003579</td>\n",
       "      <td>0.001601</td>\n",
       "      <td>0.00196</td>\n",
       "      <td>10</td>\n",
       "      <td>{'alpha': 10}</td>\n",
       "      <td>0.881908</td>\n",
       "      <td>0.885447</td>\n",
       "      <td>0.876744</td>\n",
       "      <td>0.949689</td>\n",
       "      <td>...</td>\n",
       "      <td>0.880188</td>\n",
       "      <td>0.045183</td>\n",
       "      <td>1</td>\n",
       "      <td>0.984845</td>\n",
       "      <td>0.986766</td>\n",
       "      <td>0.984905</td>\n",
       "      <td>0.99046</td>\n",
       "      <td>0.984682</td>\n",
       "      <td>0.986332</td>\n",
       "      <td>0.0022</td>\n",
       "    </tr>\n",
       "  </tbody>\n",
       "</table>\n",
       "<p>1 rows × 21 columns</p>\n",
       "</div>"
      ],
      "text/plain": [
       "   mean_fit_time  std_fit_time  mean_score_time  std_score_time param_alpha  \\\n",
       "6          0.016      0.003579         0.001601         0.00196          10   \n",
       "\n",
       "          params  split0_test_score  split1_test_score  split2_test_score  \\\n",
       "6  {'alpha': 10}           0.881908           0.885447           0.876744   \n",
       "\n",
       "   split3_test_score  ...  mean_test_score  std_test_score  rank_test_score  \\\n",
       "6           0.949689  ...         0.880188        0.045183                1   \n",
       "\n",
       "   split0_train_score  split1_train_score  split2_train_score  \\\n",
       "6            0.984845            0.986766            0.984905   \n",
       "\n",
       "   split3_train_score  split4_train_score  mean_train_score  std_train_score  \n",
       "6             0.99046            0.984682          0.986332           0.0022  \n",
       "\n",
       "[1 rows x 21 columns]"
      ]
     },
     "execution_count": 80,
     "metadata": {},
     "output_type": "execute_result"
    }
   ],
   "source": [
    "cond = results['mean_test_score']==results['mean_test_score'].max()\n",
    "\n",
    "results[cond]"
   ]
  },
  {
   "cell_type": "markdown",
   "metadata": {},
   "source": [
    "### SVR regression"
   ]
  },
  {
   "cell_type": "code",
   "execution_count": 81,
   "metadata": {},
   "outputs": [
    {
     "name": "stdout",
     "output_type": "stream",
     "text": [
      "Fitting 5 folds for each of 2 candidates, totalling 10 fits\n"
     ]
    },
    {
     "name": "stderr",
     "output_type": "stream",
     "text": [
      "[Parallel(n_jobs=-1)]: Using backend LokyBackend with 12 concurrent workers.\n",
      "[Parallel(n_jobs=-1)]: Done   5 out of  10 | elapsed:    0.0s remaining:    0.0s\n",
      "[Parallel(n_jobs=-1)]: Done  10 out of  10 | elapsed:    0.0s finished\n",
      "C:\\Users\\panlo\\anaconda3\\lib\\site-packages\\sklearn\\utils\\validation.py:73: DataConversionWarning: A column-vector y was passed when a 1d array was expected. Please change the shape of y to (n_samples, ), for example using ravel().\n",
      "  return f(**kwargs)\n"
     ]
    }
   ],
   "source": [
    "from sklearn.svm import SVR\n",
    "\n",
    "svr_regression = SVR(kernel='rbf')\n",
    "parameters = {'kernel':['poly', 'sigmoid'],}\n",
    "                #'C':[10**-5, 10**-4, 10**-3, 10**-2, 0.1, 1, 10, 10**2, 10**3, 10**4, 10**5]}\n",
    "clf = GridSearchCV(svr_regression, parameters, cv=5, scoring='r2', \n",
    "                   verbose = 2, return_train_score=True, n_jobs = -1)\n",
    "clf.fit(X, y)\n",
    "\n",
    "results = pd.DataFrame.from_dict(clf.cv_results_)"
   ]
  },
  {
   "cell_type": "code",
   "execution_count": 82,
   "metadata": {
    "scrolled": true
   },
   "outputs": [
    {
     "data": {
      "text/html": [
       "<div>\n",
       "<style scoped>\n",
       "    .dataframe tbody tr th:only-of-type {\n",
       "        vertical-align: middle;\n",
       "    }\n",
       "\n",
       "    .dataframe tbody tr th {\n",
       "        vertical-align: top;\n",
       "    }\n",
       "\n",
       "    .dataframe thead th {\n",
       "        text-align: right;\n",
       "    }\n",
       "</style>\n",
       "<table border=\"1\" class=\"dataframe\">\n",
       "  <thead>\n",
       "    <tr style=\"text-align: right;\">\n",
       "      <th></th>\n",
       "      <th>mean_fit_time</th>\n",
       "      <th>std_fit_time</th>\n",
       "      <th>mean_score_time</th>\n",
       "      <th>std_score_time</th>\n",
       "      <th>param_kernel</th>\n",
       "      <th>params</th>\n",
       "      <th>split0_test_score</th>\n",
       "      <th>split1_test_score</th>\n",
       "      <th>split2_test_score</th>\n",
       "      <th>split3_test_score</th>\n",
       "      <th>...</th>\n",
       "      <th>mean_test_score</th>\n",
       "      <th>std_test_score</th>\n",
       "      <th>rank_test_score</th>\n",
       "      <th>split0_train_score</th>\n",
       "      <th>split1_train_score</th>\n",
       "      <th>split2_train_score</th>\n",
       "      <th>split3_train_score</th>\n",
       "      <th>split4_train_score</th>\n",
       "      <th>mean_train_score</th>\n",
       "      <th>std_train_score</th>\n",
       "    </tr>\n",
       "  </thead>\n",
       "  <tbody>\n",
       "    <tr>\n",
       "      <th>0</th>\n",
       "      <td>0.020774</td>\n",
       "      <td>0.002262</td>\n",
       "      <td>0.005639</td>\n",
       "      <td>0.000173</td>\n",
       "      <td>poly</td>\n",
       "      <td>{'kernel': 'poly'}</td>\n",
       "      <td>-3.109897</td>\n",
       "      <td>-0.109196</td>\n",
       "      <td>-6.943331</td>\n",
       "      <td>-0.825098</td>\n",
       "      <td>...</td>\n",
       "      <td>-2.071535</td>\n",
       "      <td>2.73914</td>\n",
       "      <td>1</td>\n",
       "      <td>0.337547</td>\n",
       "      <td>0.306936</td>\n",
       "      <td>0.33837</td>\n",
       "      <td>0.594144</td>\n",
       "      <td>0.600134</td>\n",
       "      <td>0.435426</td>\n",
       "      <td>0.132537</td>\n",
       "    </tr>\n",
       "  </tbody>\n",
       "</table>\n",
       "<p>1 rows × 21 columns</p>\n",
       "</div>"
      ],
      "text/plain": [
       "   mean_fit_time  std_fit_time  mean_score_time  std_score_time param_kernel  \\\n",
       "0       0.020774      0.002262         0.005639        0.000173         poly   \n",
       "\n",
       "               params  split0_test_score  split1_test_score  \\\n",
       "0  {'kernel': 'poly'}          -3.109897          -0.109196   \n",
       "\n",
       "   split2_test_score  split3_test_score  ...  mean_test_score  std_test_score  \\\n",
       "0          -6.943331          -0.825098  ...        -2.071535         2.73914   \n",
       "\n",
       "   rank_test_score  split0_train_score  split1_train_score  \\\n",
       "0                1            0.337547            0.306936   \n",
       "\n",
       "   split2_train_score  split3_train_score  split4_train_score  \\\n",
       "0             0.33837            0.594144            0.600134   \n",
       "\n",
       "   mean_train_score  std_train_score  \n",
       "0          0.435426         0.132537  \n",
       "\n",
       "[1 rows x 21 columns]"
      ]
     },
     "execution_count": 82,
     "metadata": {},
     "output_type": "execute_result"
    }
   ],
   "source": [
    "cond = results['mean_test_score']==results['mean_test_score'].max()\n",
    "\n",
    "results[cond]"
   ]
  },
  {
   "cell_type": "markdown",
   "metadata": {},
   "source": [
    "### Bayesion Ridge regression"
   ]
  },
  {
   "cell_type": "code",
   "execution_count": 83,
   "metadata": {},
   "outputs": [
    {
     "name": "stdout",
     "output_type": "stream",
     "text": [
      "Fitting 5 folds for each of 121 candidates, totalling 605 fits\n"
     ]
    },
    {
     "name": "stderr",
     "output_type": "stream",
     "text": [
      "[Parallel(n_jobs=-1)]: Using backend LokyBackend with 12 concurrent workers.\n",
      "[Parallel(n_jobs=-1)]: Done  17 tasks      | elapsed:    0.0s\n",
      "[Parallel(n_jobs=-1)]: Done 567 tasks      | elapsed:    0.7s\n",
      "[Parallel(n_jobs=-1)]: Done 605 out of 605 | elapsed:    0.7s finished\n",
      "C:\\Users\\panlo\\anaconda3\\lib\\site-packages\\sklearn\\utils\\validation.py:73: DataConversionWarning: A column-vector y was passed when a 1d array was expected. Please change the shape of y to (n_samples, ), for example using ravel().\n",
      "  return f(**kwargs)\n"
     ]
    }
   ],
   "source": [
    "from sklearn import linear_model\n",
    "\n",
    "reg = linear_model.BayesianRidge()\n",
    "parameters = {'alpha_1':[10**-5, 10**-4, 10**-3, 10**-2, 0.1, 1, 10, 10**2, 10**3, 10**4, 10**5],\n",
    "             'alpha_2':[10**-5, 10**-4, 10**-3, 10**-2, 0.1, 1, 10, 10**2, 10**3, 10**4, 10**5]}\n",
    "clf = GridSearchCV(reg, parameters, cv=5, scoring='r2', \n",
    "                   verbose = 2, return_train_score=True, n_jobs = -1)\n",
    "clf.fit(X, y)\n",
    "\n",
    "results = pd.DataFrame.from_dict(clf.cv_results_)"
   ]
  },
  {
   "cell_type": "code",
   "execution_count": 84,
   "metadata": {
    "scrolled": true
   },
   "outputs": [
    {
     "data": {
      "text/html": [
       "<div>\n",
       "<style scoped>\n",
       "    .dataframe tbody tr th:only-of-type {\n",
       "        vertical-align: middle;\n",
       "    }\n",
       "\n",
       "    .dataframe tbody tr th {\n",
       "        vertical-align: top;\n",
       "    }\n",
       "\n",
       "    .dataframe thead th {\n",
       "        text-align: right;\n",
       "    }\n",
       "</style>\n",
       "<table border=\"1\" class=\"dataframe\">\n",
       "  <thead>\n",
       "    <tr style=\"text-align: right;\">\n",
       "      <th></th>\n",
       "      <th>mean_fit_time</th>\n",
       "      <th>std_fit_time</th>\n",
       "      <th>mean_score_time</th>\n",
       "      <th>std_score_time</th>\n",
       "      <th>param_alpha_1</th>\n",
       "      <th>param_alpha_2</th>\n",
       "      <th>params</th>\n",
       "      <th>split0_test_score</th>\n",
       "      <th>split1_test_score</th>\n",
       "      <th>split2_test_score</th>\n",
       "      <th>...</th>\n",
       "      <th>mean_test_score</th>\n",
       "      <th>std_test_score</th>\n",
       "      <th>rank_test_score</th>\n",
       "      <th>split0_train_score</th>\n",
       "      <th>split1_train_score</th>\n",
       "      <th>split2_train_score</th>\n",
       "      <th>split3_train_score</th>\n",
       "      <th>split4_train_score</th>\n",
       "      <th>mean_train_score</th>\n",
       "      <th>std_train_score</th>\n",
       "    </tr>\n",
       "  </thead>\n",
       "  <tbody>\n",
       "    <tr>\n",
       "      <th>112</th>\n",
       "      <td>0.002404</td>\n",
       "      <td>0.001963</td>\n",
       "      <td>0.0008</td>\n",
       "      <td>0.0016</td>\n",
       "      <td>100000</td>\n",
       "      <td>0.001</td>\n",
       "      <td>{'alpha_1': 100000, 'alpha_2': 0.001}</td>\n",
       "      <td>0.829988</td>\n",
       "      <td>0.821588</td>\n",
       "      <td>0.841933</td>\n",
       "      <td>...</td>\n",
       "      <td>0.752534</td>\n",
       "      <td>0.223384</td>\n",
       "      <td>1</td>\n",
       "      <td>0.986501</td>\n",
       "      <td>0.98921</td>\n",
       "      <td>0.986503</td>\n",
       "      <td>0.992593</td>\n",
       "      <td>0.988605</td>\n",
       "      <td>0.988682</td>\n",
       "      <td>0.00224</td>\n",
       "    </tr>\n",
       "  </tbody>\n",
       "</table>\n",
       "<p>1 rows × 22 columns</p>\n",
       "</div>"
      ],
      "text/plain": [
       "     mean_fit_time  std_fit_time  mean_score_time  std_score_time  \\\n",
       "112       0.002404      0.001963           0.0008          0.0016   \n",
       "\n",
       "    param_alpha_1 param_alpha_2                                 params  \\\n",
       "112        100000         0.001  {'alpha_1': 100000, 'alpha_2': 0.001}   \n",
       "\n",
       "     split0_test_score  split1_test_score  split2_test_score  ...  \\\n",
       "112           0.829988           0.821588           0.841933  ...   \n",
       "\n",
       "     mean_test_score  std_test_score  rank_test_score  split0_train_score  \\\n",
       "112         0.752534        0.223384                1            0.986501   \n",
       "\n",
       "     split1_train_score  split2_train_score  split3_train_score  \\\n",
       "112             0.98921            0.986503            0.992593   \n",
       "\n",
       "     split4_train_score  mean_train_score  std_train_score  \n",
       "112            0.988605          0.988682          0.00224  \n",
       "\n",
       "[1 rows x 22 columns]"
      ]
     },
     "execution_count": 84,
     "metadata": {},
     "output_type": "execute_result"
    }
   ],
   "source": [
    "cond = results['mean_test_score']==results['mean_test_score'].max()\n",
    "\n",
    "results[cond]"
   ]
  },
  {
   "cell_type": "code",
   "execution_count": 85,
   "metadata": {},
   "outputs": [],
   "source": [
    "from sklearn.model_selection import train_test_split\n",
    "\n",
    "X_train, X_valid, y_train, y_valid = train_test_split(X,y, test_size=0.33, random_state=42)"
   ]
  },
  {
   "cell_type": "code",
   "execution_count": 86,
   "metadata": {},
   "outputs": [
    {
     "name": "stderr",
     "output_type": "stream",
     "text": [
      "C:\\Users\\panlo\\anaconda3\\lib\\site-packages\\sklearn\\utils\\validation.py:73: DataConversionWarning: A column-vector y was passed when a 1d array was expected. Please change the shape of y to (n_samples, ), for example using ravel().\n",
      "  return f(**kwargs)\n"
     ]
    },
    {
     "data": {
      "text/plain": [
       "array([ 7415.27924743,   322.21328691, 16626.96832146,   945.2557089 ,\n",
       "        2295.26393557, 13863.28213108,    66.20709752,  2418.46955721,\n",
       "         356.20837942, 26106.37021773])"
      ]
     },
     "execution_count": 86,
     "metadata": {},
     "output_type": "execute_result"
    }
   ],
   "source": [
    "clf.best_estimator_.fit(X_train,y_train)\n",
    "clf.best_estimator_.predict(X_valid)[:10]"
   ]
  },
  {
   "cell_type": "code",
   "execution_count": null,
   "metadata": {},
   "outputs": [],
   "source": []
  },
  {
   "cell_type": "markdown",
   "metadata": {},
   "source": [
    "## Moving Average Monthly: Best Results "
   ]
  },
  {
   "cell_type": "code",
   "execution_count": 89,
   "metadata": {},
   "outputs": [
    {
     "name": "stdout",
     "output_type": "stream",
     "text": [
      "(332,)\n",
      "(332, 1)\n",
      "(332, 150)\n"
     ]
    }
   ],
   "source": [
    "y = targets(df_counts_per_day, 30, 'mov_av_30d')\n",
    "X=create_features(df_counts_per_day, 30, features)\n",
    "colsFeatures = [feat + '_day_' + str(i) for feat in features for i in range(30)]\n",
    "\n",
    "\n",
    "from sklearn.preprocessing import MinMaxScaler\n",
    "scaler = MinMaxScaler()\n",
    "scaler.fit(X)\n",
    "X = scaler.transform(X)\n",
    "\n",
    "df_ML = pd.DataFrame(data=X,columns=colsFeatures)\n",
    "df_ML['Target'] = y\n",
    "\n",
    "y=df_ML['Target'].values\n",
    "print(y.shape)\n",
    "y=y.reshape(-1,1)\n",
    "print(y.shape)\n",
    "X=df_ML[colsFeatures].values\n",
    "print(X.shape)"
   ]
  },
  {
   "cell_type": "markdown",
   "metadata": {},
   "source": [
    "## Cross validation"
   ]
  },
  {
   "cell_type": "code",
   "execution_count": 90,
   "metadata": {},
   "outputs": [],
   "source": [
    "from sklearn.linear_model import Lasso\n",
    "from sklearn.model_selection import GridSearchCV"
   ]
  },
  {
   "cell_type": "markdown",
   "metadata": {},
   "source": [
    "### Lasso regression"
   ]
  },
  {
   "cell_type": "code",
   "execution_count": 91,
   "metadata": {},
   "outputs": [
    {
     "name": "stdout",
     "output_type": "stream",
     "text": [
      "Fitting 5 folds for each of 11 candidates, totalling 55 fits\n"
     ]
    },
    {
     "name": "stderr",
     "output_type": "stream",
     "text": [
      "[Parallel(n_jobs=-1)]: Using backend LokyBackend with 12 concurrent workers.\n",
      "[Parallel(n_jobs=-1)]: Done  17 tasks      | elapsed:    0.2s\n",
      "[Parallel(n_jobs=-1)]: Done  32 out of  55 | elapsed:    0.3s remaining:    0.2s\n",
      "[Parallel(n_jobs=-1)]: Done  55 out of  55 | elapsed:    0.3s finished\n",
      "C:\\Users\\panlo\\anaconda3\\lib\\site-packages\\sklearn\\linear_model\\_coordinate_descent.py:529: ConvergenceWarning: Objective did not converge. You might want to increase the number of iterations. Duality gap: 35127936.4144519, tolerance: 3612956.303448186\n",
      "  model = cd_fast.enet_coordinate_descent(\n"
     ]
    }
   ],
   "source": [
    "lasso_regression = Lasso()\n",
    "parameters = {'alpha':[10**-5, 10**-4, 10**-3, 10**-2, 0.1, 1, 10, 10**2, 10**3, 10**4, 10**5]}\n",
    "clf = GridSearchCV(lasso_regression, parameters, cv=5, scoring='r2', \n",
    "                   verbose = 2, return_train_score=True, n_jobs = -1)\n",
    "clf.fit(X, y)\n",
    "\n",
    "results = pd.DataFrame.from_dict(clf.cv_results_)"
   ]
  },
  {
   "cell_type": "code",
   "execution_count": 92,
   "metadata": {},
   "outputs": [
    {
     "data": {
      "text/html": [
       "<div>\n",
       "<style scoped>\n",
       "    .dataframe tbody tr th:only-of-type {\n",
       "        vertical-align: middle;\n",
       "    }\n",
       "\n",
       "    .dataframe tbody tr th {\n",
       "        vertical-align: top;\n",
       "    }\n",
       "\n",
       "    .dataframe thead th {\n",
       "        text-align: right;\n",
       "    }\n",
       "</style>\n",
       "<table border=\"1\" class=\"dataframe\">\n",
       "  <thead>\n",
       "    <tr style=\"text-align: right;\">\n",
       "      <th></th>\n",
       "      <th>mean_fit_time</th>\n",
       "      <th>std_fit_time</th>\n",
       "      <th>mean_score_time</th>\n",
       "      <th>std_score_time</th>\n",
       "      <th>param_alpha</th>\n",
       "      <th>params</th>\n",
       "      <th>split0_test_score</th>\n",
       "      <th>split1_test_score</th>\n",
       "      <th>split2_test_score</th>\n",
       "      <th>split3_test_score</th>\n",
       "      <th>...</th>\n",
       "      <th>mean_test_score</th>\n",
       "      <th>std_test_score</th>\n",
       "      <th>rank_test_score</th>\n",
       "      <th>split0_train_score</th>\n",
       "      <th>split1_train_score</th>\n",
       "      <th>split2_train_score</th>\n",
       "      <th>split3_train_score</th>\n",
       "      <th>split4_train_score</th>\n",
       "      <th>mean_train_score</th>\n",
       "      <th>std_train_score</th>\n",
       "    </tr>\n",
       "  </thead>\n",
       "  <tbody>\n",
       "    <tr>\n",
       "      <th>5</th>\n",
       "      <td>0.075531</td>\n",
       "      <td>0.011067</td>\n",
       "      <td>0.000822</td>\n",
       "      <td>0.001645</td>\n",
       "      <td>1</td>\n",
       "      <td>{'alpha': 1}</td>\n",
       "      <td>0.941035</td>\n",
       "      <td>0.996936</td>\n",
       "      <td>0.992878</td>\n",
       "      <td>0.994153</td>\n",
       "      <td>...</td>\n",
       "      <td>0.983701</td>\n",
       "      <td>0.021378</td>\n",
       "      <td>1</td>\n",
       "      <td>0.99927</td>\n",
       "      <td>0.999073</td>\n",
       "      <td>0.999082</td>\n",
       "      <td>0.999591</td>\n",
       "      <td>0.998846</td>\n",
       "      <td>0.999172</td>\n",
       "      <td>0.000249</td>\n",
       "    </tr>\n",
       "  </tbody>\n",
       "</table>\n",
       "<p>1 rows × 21 columns</p>\n",
       "</div>"
      ],
      "text/plain": [
       "   mean_fit_time  std_fit_time  mean_score_time  std_score_time param_alpha  \\\n",
       "5       0.075531      0.011067         0.000822        0.001645           1   \n",
       "\n",
       "         params  split0_test_score  split1_test_score  split2_test_score  \\\n",
       "5  {'alpha': 1}           0.941035           0.996936           0.992878   \n",
       "\n",
       "   split3_test_score  ...  mean_test_score  std_test_score  rank_test_score  \\\n",
       "5           0.994153  ...         0.983701        0.021378                1   \n",
       "\n",
       "   split0_train_score  split1_train_score  split2_train_score  \\\n",
       "5             0.99927            0.999073            0.999082   \n",
       "\n",
       "   split3_train_score  split4_train_score  mean_train_score  std_train_score  \n",
       "5            0.999591            0.998846          0.999172         0.000249  \n",
       "\n",
       "[1 rows x 21 columns]"
      ]
     },
     "execution_count": 92,
     "metadata": {},
     "output_type": "execute_result"
    }
   ],
   "source": [
    "cond = results['mean_test_score']==results['mean_test_score'].max()\n",
    "\n",
    "results[cond]"
   ]
  },
  {
   "cell_type": "markdown",
   "metadata": {},
   "source": [
    "### SVR regression"
   ]
  },
  {
   "cell_type": "code",
   "execution_count": 93,
   "metadata": {},
   "outputs": [
    {
     "name": "stdout",
     "output_type": "stream",
     "text": [
      "Fitting 5 folds for each of 2 candidates, totalling 10 fits\n"
     ]
    },
    {
     "name": "stderr",
     "output_type": "stream",
     "text": [
      "[Parallel(n_jobs=-1)]: Using backend LokyBackend with 12 concurrent workers.\n",
      "[Parallel(n_jobs=-1)]: Done   5 out of  10 | elapsed:    0.0s remaining:    0.0s\n",
      "[Parallel(n_jobs=-1)]: Done  10 out of  10 | elapsed:    0.0s finished\n",
      "C:\\Users\\panlo\\anaconda3\\lib\\site-packages\\sklearn\\utils\\validation.py:73: DataConversionWarning: A column-vector y was passed when a 1d array was expected. Please change the shape of y to (n_samples, ), for example using ravel().\n",
      "  return f(**kwargs)\n"
     ]
    }
   ],
   "source": [
    "from sklearn.svm import SVR\n",
    "\n",
    "svr_regression = SVR(kernel='rbf')\n",
    "parameters = {'kernel':['poly', 'sigmoid'],}\n",
    "                #'C':[10**-5, 10**-4, 10**-3, 10**-2, 0.1, 1, 10, 10**2, 10**3, 10**4, 10**5]}\n",
    "clf = GridSearchCV(svr_regression, parameters, cv=5, scoring='r2', \n",
    "                   verbose = 2, return_train_score=True, n_jobs = -1)\n",
    "clf.fit(X, y)\n",
    "\n",
    "results = pd.DataFrame.from_dict(clf.cv_results_)"
   ]
  },
  {
   "cell_type": "code",
   "execution_count": 94,
   "metadata": {
    "scrolled": true
   },
   "outputs": [
    {
     "data": {
      "text/html": [
       "<div>\n",
       "<style scoped>\n",
       "    .dataframe tbody tr th:only-of-type {\n",
       "        vertical-align: middle;\n",
       "    }\n",
       "\n",
       "    .dataframe tbody tr th {\n",
       "        vertical-align: top;\n",
       "    }\n",
       "\n",
       "    .dataframe thead th {\n",
       "        text-align: right;\n",
       "    }\n",
       "</style>\n",
       "<table border=\"1\" class=\"dataframe\">\n",
       "  <thead>\n",
       "    <tr style=\"text-align: right;\">\n",
       "      <th></th>\n",
       "      <th>mean_fit_time</th>\n",
       "      <th>std_fit_time</th>\n",
       "      <th>mean_score_time</th>\n",
       "      <th>std_score_time</th>\n",
       "      <th>param_kernel</th>\n",
       "      <th>params</th>\n",
       "      <th>split0_test_score</th>\n",
       "      <th>split1_test_score</th>\n",
       "      <th>split2_test_score</th>\n",
       "      <th>split3_test_score</th>\n",
       "      <th>...</th>\n",
       "      <th>mean_test_score</th>\n",
       "      <th>std_test_score</th>\n",
       "      <th>rank_test_score</th>\n",
       "      <th>split0_train_score</th>\n",
       "      <th>split1_train_score</th>\n",
       "      <th>split2_train_score</th>\n",
       "      <th>split3_train_score</th>\n",
       "      <th>split4_train_score</th>\n",
       "      <th>mean_train_score</th>\n",
       "      <th>std_train_score</th>\n",
       "    </tr>\n",
       "  </thead>\n",
       "  <tbody>\n",
       "    <tr>\n",
       "      <th>0</th>\n",
       "      <td>0.018366</td>\n",
       "      <td>0.000075</td>\n",
       "      <td>0.0042</td>\n",
       "      <td>0.000038</td>\n",
       "      <td>poly</td>\n",
       "      <td>{'kernel': 'poly'}</td>\n",
       "      <td>-1.52238</td>\n",
       "      <td>-4.401729</td>\n",
       "      <td>-8.376377</td>\n",
       "      <td>-1.109304</td>\n",
       "      <td>...</td>\n",
       "      <td>-2.982879</td>\n",
       "      <td>3.12553</td>\n",
       "      <td>1</td>\n",
       "      <td>0.407204</td>\n",
       "      <td>0.372391</td>\n",
       "      <td>0.397993</td>\n",
       "      <td>0.584322</td>\n",
       "      <td>0.56549</td>\n",
       "      <td>0.46548</td>\n",
       "      <td>0.090268</td>\n",
       "    </tr>\n",
       "  </tbody>\n",
       "</table>\n",
       "<p>1 rows × 21 columns</p>\n",
       "</div>"
      ],
      "text/plain": [
       "   mean_fit_time  std_fit_time  mean_score_time  std_score_time param_kernel  \\\n",
       "0       0.018366      0.000075           0.0042        0.000038         poly   \n",
       "\n",
       "               params  split0_test_score  split1_test_score  \\\n",
       "0  {'kernel': 'poly'}           -1.52238          -4.401729   \n",
       "\n",
       "   split2_test_score  split3_test_score  ...  mean_test_score  std_test_score  \\\n",
       "0          -8.376377          -1.109304  ...        -2.982879         3.12553   \n",
       "\n",
       "   rank_test_score  split0_train_score  split1_train_score  \\\n",
       "0                1            0.407204            0.372391   \n",
       "\n",
       "   split2_train_score  split3_train_score  split4_train_score  \\\n",
       "0            0.397993            0.584322             0.56549   \n",
       "\n",
       "   mean_train_score  std_train_score  \n",
       "0           0.46548         0.090268  \n",
       "\n",
       "[1 rows x 21 columns]"
      ]
     },
     "execution_count": 94,
     "metadata": {},
     "output_type": "execute_result"
    }
   ],
   "source": [
    "cond = results['mean_test_score']==results['mean_test_score'].max()\n",
    "\n",
    "results[cond]"
   ]
  },
  {
   "cell_type": "markdown",
   "metadata": {},
   "source": [
    "### Bayesian Ridge regression"
   ]
  },
  {
   "cell_type": "code",
   "execution_count": 95,
   "metadata": {},
   "outputs": [
    {
     "name": "stdout",
     "output_type": "stream",
     "text": [
      "Fitting 5 folds for each of 121 candidates, totalling 605 fits\n"
     ]
    },
    {
     "name": "stderr",
     "output_type": "stream",
     "text": [
      "[Parallel(n_jobs=-1)]: Using backend LokyBackend with 12 concurrent workers.\n",
      "[Parallel(n_jobs=-1)]: Done  17 tasks      | elapsed:    0.0s\n",
      "[Parallel(n_jobs=-1)]: Done 563 tasks      | elapsed:    2.7s\n",
      "[Parallel(n_jobs=-1)]: Done 605 out of 605 | elapsed:    3.5s finished\n",
      "C:\\Users\\panlo\\anaconda3\\lib\\site-packages\\sklearn\\utils\\validation.py:73: DataConversionWarning: A column-vector y was passed when a 1d array was expected. Please change the shape of y to (n_samples, ), for example using ravel().\n",
      "  return f(**kwargs)\n"
     ]
    }
   ],
   "source": [
    "from sklearn import linear_model\n",
    "\n",
    "reg = linear_model.BayesianRidge()\n",
    "parameters = {'alpha_1':[10**-5, 10**-4, 10**-3, 10**-2, 0.1, 1, 10, 10**2, 10**3, 10**4, 10**5],\n",
    "             'alpha_2':[10**-5, 10**-4, 10**-3, 10**-2, 0.1, 1, 10, 10**2, 10**3, 10**4, 10**5]}\n",
    "clf = GridSearchCV(reg, parameters, cv=5, scoring='r2', \n",
    "                   verbose = 2, return_train_score=True, n_jobs = -1)\n",
    "clf.fit(X, y)\n",
    "\n",
    "results = pd.DataFrame.from_dict(clf.cv_results_)"
   ]
  },
  {
   "cell_type": "code",
   "execution_count": 96,
   "metadata": {},
   "outputs": [
    {
     "data": {
      "text/html": [
       "<div>\n",
       "<style scoped>\n",
       "    .dataframe tbody tr th:only-of-type {\n",
       "        vertical-align: middle;\n",
       "    }\n",
       "\n",
       "    .dataframe tbody tr th {\n",
       "        vertical-align: top;\n",
       "    }\n",
       "\n",
       "    .dataframe thead th {\n",
       "        text-align: right;\n",
       "    }\n",
       "</style>\n",
       "<table border=\"1\" class=\"dataframe\">\n",
       "  <thead>\n",
       "    <tr style=\"text-align: right;\">\n",
       "      <th></th>\n",
       "      <th>mean_fit_time</th>\n",
       "      <th>std_fit_time</th>\n",
       "      <th>mean_score_time</th>\n",
       "      <th>std_score_time</th>\n",
       "      <th>param_alpha_1</th>\n",
       "      <th>param_alpha_2</th>\n",
       "      <th>params</th>\n",
       "      <th>split0_test_score</th>\n",
       "      <th>split1_test_score</th>\n",
       "      <th>split2_test_score</th>\n",
       "      <th>...</th>\n",
       "      <th>mean_test_score</th>\n",
       "      <th>std_test_score</th>\n",
       "      <th>rank_test_score</th>\n",
       "      <th>split0_train_score</th>\n",
       "      <th>split1_train_score</th>\n",
       "      <th>split2_train_score</th>\n",
       "      <th>split3_train_score</th>\n",
       "      <th>split4_train_score</th>\n",
       "      <th>mean_train_score</th>\n",
       "      <th>std_train_score</th>\n",
       "    </tr>\n",
       "  </thead>\n",
       "  <tbody>\n",
       "    <tr>\n",
       "      <th>80</th>\n",
       "      <td>0.038728</td>\n",
       "      <td>0.003929</td>\n",
       "      <td>0.001598</td>\n",
       "      <td>0.001958</td>\n",
       "      <td>100</td>\n",
       "      <td>0.01</td>\n",
       "      <td>{'alpha_1': 100, 'alpha_2': 0.01}</td>\n",
       "      <td>0.950677</td>\n",
       "      <td>0.99548</td>\n",
       "      <td>0.988508</td>\n",
       "      <td>...</td>\n",
       "      <td>0.983664</td>\n",
       "      <td>0.016727</td>\n",
       "      <td>1</td>\n",
       "      <td>0.999328</td>\n",
       "      <td>0.999128</td>\n",
       "      <td>0.999132</td>\n",
       "      <td>0.99975</td>\n",
       "      <td>0.998997</td>\n",
       "      <td>0.999267</td>\n",
       "      <td>0.000264</td>\n",
       "    </tr>\n",
       "  </tbody>\n",
       "</table>\n",
       "<p>1 rows × 22 columns</p>\n",
       "</div>"
      ],
      "text/plain": [
       "    mean_fit_time  std_fit_time  mean_score_time  std_score_time  \\\n",
       "80       0.038728      0.003929         0.001598        0.001958   \n",
       "\n",
       "   param_alpha_1 param_alpha_2                             params  \\\n",
       "80           100          0.01  {'alpha_1': 100, 'alpha_2': 0.01}   \n",
       "\n",
       "    split0_test_score  split1_test_score  split2_test_score  ...  \\\n",
       "80           0.950677            0.99548           0.988508  ...   \n",
       "\n",
       "    mean_test_score  std_test_score  rank_test_score  split0_train_score  \\\n",
       "80         0.983664        0.016727                1            0.999328   \n",
       "\n",
       "    split1_train_score  split2_train_score  split3_train_score  \\\n",
       "80            0.999128            0.999132             0.99975   \n",
       "\n",
       "    split4_train_score  mean_train_score  std_train_score  \n",
       "80            0.998997          0.999267         0.000264  \n",
       "\n",
       "[1 rows x 22 columns]"
      ]
     },
     "execution_count": 96,
     "metadata": {},
     "output_type": "execute_result"
    }
   ],
   "source": [
    "cond = results['mean_test_score']==results['mean_test_score'].max()\n",
    "\n",
    "results[cond]"
   ]
  },
  {
   "cell_type": "code",
   "execution_count": 97,
   "metadata": {},
   "outputs": [],
   "source": [
    "from sklearn.model_selection import train_test_split\n",
    "\n",
    "X_train, X_valid, y_train, y_valid = train_test_split(X,y, test_size=0.33, random_state=42)"
   ]
  },
  {
   "cell_type": "code",
   "execution_count": 98,
   "metadata": {},
   "outputs": [
    {
     "name": "stderr",
     "output_type": "stream",
     "text": [
      "C:\\Users\\panlo\\anaconda3\\lib\\site-packages\\sklearn\\utils\\validation.py:73: DataConversionWarning: A column-vector y was passed when a 1d array was expected. Please change the shape of y to (n_samples, ), for example using ravel().\n",
      "  return f(**kwargs)\n"
     ]
    },
    {
     "data": {
      "text/plain": [
       "array([  241.89537355, 12789.79678074,  3648.07284899,  3114.61715402,\n",
       "        5147.40580986,   788.95486194, 30115.67000551,  1507.06318423,\n",
       "        6283.21001588,  3558.15791035])"
      ]
     },
     "execution_count": 98,
     "metadata": {},
     "output_type": "execute_result"
    }
   ],
   "source": [
    "clf.best_estimator_.fit(X_train,y_train)\n",
    "clf.best_estimator_.predict(X_valid)[:10]"
   ]
  },
  {
   "cell_type": "code",
   "execution_count": 99,
   "metadata": {},
   "outputs": [
    {
     "data": {
      "text/plain": [
       "array([[  254.66666667],\n",
       "       [12760.43333333],\n",
       "       [ 4097.4       ],\n",
       "       [ 3137.06666667],\n",
       "       [ 4627.06666667],\n",
       "       [  708.63333333],\n",
       "       [31780.93333333],\n",
       "       [ 1443.5       ],\n",
       "       [ 6235.        ],\n",
       "       [ 3456.06666667]])"
      ]
     },
     "execution_count": 99,
     "metadata": {},
     "output_type": "execute_result"
    }
   ],
   "source": [
    "y_valid[:10]"
   ]
  },
  {
   "cell_type": "code",
   "execution_count": null,
   "metadata": {},
   "outputs": [],
   "source": []
  },
  {
   "cell_type": "markdown",
   "metadata": {},
   "source": [
    "## 7 day average counts: Random input model"
   ]
  },
  {
   "cell_type": "code",
   "execution_count": 133,
   "metadata": {},
   "outputs": [
    {
     "name": "stdout",
     "output_type": "stream",
     "text": [
      "(355,)\n",
      "(355, 1)\n",
      "(355, 35)\n"
     ]
    }
   ],
   "source": [
    "y = targets(df_counts_per_day, 7, 'mov_av_7d')\n",
    "X=create_features(df_counts_per_day, 7, features)\n",
    "X_random = np.random.rand(X.shape[0],X.shape[1])\n",
    "colsFeatures = [feat + '_day_' + str(i) for feat in features for i in range(7)]\n",
    "\n",
    "from sklearn.preprocessing import MinMaxScaler\n",
    "scaler = MinMaxScaler()\n",
    "scaler.fit(X)\n",
    "X = scaler.transform(X)\n",
    "\n",
    "scaler.fit(X_random)\n",
    "X_random = scaler.transform(X_random)\n",
    "\n",
    "df_ML = pd.DataFrame(data=X,columns=colsFeatures)\n",
    "df_ML['Target'] = y\n",
    "\n",
    "y=df_ML['Target'].values\n",
    "print(y.shape)\n",
    "y=y.reshape(-1,1)\n",
    "print(y.shape)\n",
    "X=df_ML[colsFeatures].values\n",
    "print(X.shape)"
   ]
  },
  {
   "cell_type": "markdown",
   "metadata": {},
   "source": [
    "## Cross validation"
   ]
  },
  {
   "cell_type": "markdown",
   "metadata": {},
   "source": [
    "### Lasso regression"
   ]
  },
  {
   "cell_type": "code",
   "execution_count": 179,
   "metadata": {},
   "outputs": [
    {
     "name": "stdout",
     "output_type": "stream",
     "text": [
      "Fitting 5 folds for each of 11 candidates, totalling 55 fits\n"
     ]
    },
    {
     "name": "stderr",
     "output_type": "stream",
     "text": [
      "[Parallel(n_jobs=-1)]: Using backend LokyBackend with 12 concurrent workers.\n",
      "[Parallel(n_jobs=-1)]: Done  17 tasks      | elapsed:    0.1s\n",
      "[Parallel(n_jobs=-1)]: Done  32 out of  55 | elapsed:    0.1s remaining:    0.1s\n",
      "[Parallel(n_jobs=-1)]: Done  55 out of  55 | elapsed:    0.1s finished\n"
     ]
    }
   ],
   "source": [
    "lasso_regression = Lasso()\n",
    "parameters = {'alpha':[10**-5, 10**-4, 10**-3, 10**-2, 0.1, 1, 10, 10**2, 10**3, 10**4, 10**5]}\n",
    "clf = GridSearchCV(lasso_regression, parameters, cv=5, scoring='r2', \n",
    "                   verbose = 2, return_train_score=True, n_jobs = -1)\n",
    "clf.fit(X, y)\n",
    "\n",
    "results = pd.DataFrame.from_dict(clf.cv_results_)"
   ]
  },
  {
   "cell_type": "code",
   "execution_count": 180,
   "metadata": {},
   "outputs": [
    {
     "data": {
      "text/html": [
       "<div>\n",
       "<style scoped>\n",
       "    .dataframe tbody tr th:only-of-type {\n",
       "        vertical-align: middle;\n",
       "    }\n",
       "\n",
       "    .dataframe tbody tr th {\n",
       "        vertical-align: top;\n",
       "    }\n",
       "\n",
       "    .dataframe thead th {\n",
       "        text-align: right;\n",
       "    }\n",
       "</style>\n",
       "<table border=\"1\" class=\"dataframe\">\n",
       "  <thead>\n",
       "    <tr style=\"text-align: right;\">\n",
       "      <th></th>\n",
       "      <th>mean_fit_time</th>\n",
       "      <th>std_fit_time</th>\n",
       "      <th>mean_score_time</th>\n",
       "      <th>std_score_time</th>\n",
       "      <th>param_alpha</th>\n",
       "      <th>params</th>\n",
       "      <th>split0_test_score</th>\n",
       "      <th>split1_test_score</th>\n",
       "      <th>split2_test_score</th>\n",
       "      <th>split3_test_score</th>\n",
       "      <th>...</th>\n",
       "      <th>mean_test_score</th>\n",
       "      <th>std_test_score</th>\n",
       "      <th>rank_test_score</th>\n",
       "      <th>split0_train_score</th>\n",
       "      <th>split1_train_score</th>\n",
       "      <th>split2_train_score</th>\n",
       "      <th>split3_train_score</th>\n",
       "      <th>split4_train_score</th>\n",
       "      <th>mean_train_score</th>\n",
       "      <th>std_train_score</th>\n",
       "    </tr>\n",
       "  </thead>\n",
       "  <tbody>\n",
       "    <tr>\n",
       "      <th>6</th>\n",
       "      <td>0.015202</td>\n",
       "      <td>0.002993</td>\n",
       "      <td>0.0016</td>\n",
       "      <td>0.00196</td>\n",
       "      <td>10</td>\n",
       "      <td>{'alpha': 10}</td>\n",
       "      <td>0.881908</td>\n",
       "      <td>0.885447</td>\n",
       "      <td>0.876744</td>\n",
       "      <td>0.949689</td>\n",
       "      <td>...</td>\n",
       "      <td>0.880188</td>\n",
       "      <td>0.045183</td>\n",
       "      <td>1</td>\n",
       "      <td>0.984845</td>\n",
       "      <td>0.986766</td>\n",
       "      <td>0.984905</td>\n",
       "      <td>0.99046</td>\n",
       "      <td>0.984682</td>\n",
       "      <td>0.986332</td>\n",
       "      <td>0.0022</td>\n",
       "    </tr>\n",
       "  </tbody>\n",
       "</table>\n",
       "<p>1 rows × 21 columns</p>\n",
       "</div>"
      ],
      "text/plain": [
       "   mean_fit_time  std_fit_time  mean_score_time  std_score_time param_alpha  \\\n",
       "6       0.015202      0.002993           0.0016         0.00196          10   \n",
       "\n",
       "          params  split0_test_score  split1_test_score  split2_test_score  \\\n",
       "6  {'alpha': 10}           0.881908           0.885447           0.876744   \n",
       "\n",
       "   split3_test_score  ...  mean_test_score  std_test_score  rank_test_score  \\\n",
       "6           0.949689  ...         0.880188        0.045183                1   \n",
       "\n",
       "   split0_train_score  split1_train_score  split2_train_score  \\\n",
       "6            0.984845            0.986766            0.984905   \n",
       "\n",
       "   split3_train_score  split4_train_score  mean_train_score  std_train_score  \n",
       "6             0.99046            0.984682          0.986332           0.0022  \n",
       "\n",
       "[1 rows x 21 columns]"
      ]
     },
     "execution_count": 180,
     "metadata": {},
     "output_type": "execute_result"
    }
   ],
   "source": [
    "cond = results['mean_test_score']==results['mean_test_score'].max()\n",
    "\n",
    "results[cond]"
   ]
  },
  {
   "cell_type": "code",
   "execution_count": 181,
   "metadata": {},
   "outputs": [
    {
     "data": {
      "text/plain": [
       "array([0.88190801, 0.88544708, 0.87674438, 0.94968904, 0.80714909])"
      ]
     },
     "execution_count": 181,
     "metadata": {},
     "output_type": "execute_result"
    }
   ],
   "source": [
    "cols = [col for col in results.columns if 'test_score' in col and 'mean' not in col \n",
    "        and 'std' not in col and 'rank' not in col]\n",
    "R2 = results.loc[cond,cols].iloc[0].values\n",
    "R2"
   ]
  },
  {
   "cell_type": "code",
   "execution_count": null,
   "metadata": {},
   "outputs": [],
   "source": []
  },
  {
   "cell_type": "code",
   "execution_count": 182,
   "metadata": {},
   "outputs": [],
   "source": [
    "from sklearn.model_selection import train_test_split\n",
    "\n",
    "X_train, X_valid, y_train, y_valid = train_test_split(X,y, test_size=0.33, random_state=42)"
   ]
  },
  {
   "cell_type": "code",
   "execution_count": 183,
   "metadata": {},
   "outputs": [
    {
     "data": {
      "text/plain": [
       "array([ 7441.80797861,   296.91576165, 16222.96496657,   963.02873003,\n",
       "        2188.36679721, 14378.54799772,    31.85774452,  2375.60373215,\n",
       "         518.93659848, 28068.71049937])"
      ]
     },
     "execution_count": 183,
     "metadata": {},
     "output_type": "execute_result"
    }
   ],
   "source": [
    "clf.best_estimator_.fit(X_train,y_train)\n",
    "clf.best_estimator_.predict(X_valid)[:10]"
   ]
  },
  {
   "cell_type": "code",
   "execution_count": 184,
   "metadata": {},
   "outputs": [
    {
     "data": {
      "text/plain": [
       "array([[7.75100000e+03],\n",
       "       [2.85142857e+02],\n",
       "       [1.63225714e+04],\n",
       "       [8.62142857e+02],\n",
       "       [2.27485714e+03],\n",
       "       [1.27927143e+04],\n",
       "       [7.14285714e-01],\n",
       "       [2.56928571e+03],\n",
       "       [3.59000000e+02],\n",
       "       [2.82738571e+04]])"
      ]
     },
     "execution_count": 184,
     "metadata": {},
     "output_type": "execute_result"
    }
   ],
   "source": [
    "y_valid[:10]"
   ]
  },
  {
   "cell_type": "code",
   "execution_count": null,
   "metadata": {},
   "outputs": [],
   "source": []
  },
  {
   "cell_type": "markdown",
   "metadata": {},
   "source": [
    "### Lasso regression Random input"
   ]
  },
  {
   "cell_type": "code",
   "execution_count": 185,
   "metadata": {},
   "outputs": [
    {
     "name": "stdout",
     "output_type": "stream",
     "text": [
      "Fitting 5 folds for each of 11 candidates, totalling 55 fits\n"
     ]
    },
    {
     "name": "stderr",
     "output_type": "stream",
     "text": [
      "[Parallel(n_jobs=-1)]: Using backend LokyBackend with 12 concurrent workers.\n",
      "[Parallel(n_jobs=-1)]: Done  17 tasks      | elapsed:    0.0s\n",
      "[Parallel(n_jobs=-1)]: Done  32 out of  55 | elapsed:    0.0s remaining:    0.0s\n",
      "[Parallel(n_jobs=-1)]: Done  55 out of  55 | elapsed:    0.0s finished\n"
     ]
    }
   ],
   "source": [
    "lasso_regression = Lasso()\n",
    "parameters = {'alpha':[10**-5, 10**-4, 10**-3, 10**-2, 0.1, 1, 10, 10**2, 10**3, 10**4, 10**5]}\n",
    "clf = GridSearchCV(lasso_regression, parameters, cv=5, scoring='r2', \n",
    "                   verbose = 2, return_train_score=True, n_jobs = -1)\n",
    "clf.fit(X_random, y)\n",
    "\n",
    "results = pd.DataFrame.from_dict(clf.cv_results_)"
   ]
  },
  {
   "cell_type": "code",
   "execution_count": 186,
   "metadata": {},
   "outputs": [
    {
     "data": {
      "text/html": [
       "<div>\n",
       "<style scoped>\n",
       "    .dataframe tbody tr th:only-of-type {\n",
       "        vertical-align: middle;\n",
       "    }\n",
       "\n",
       "    .dataframe tbody tr th {\n",
       "        vertical-align: top;\n",
       "    }\n",
       "\n",
       "    .dataframe thead th {\n",
       "        text-align: right;\n",
       "    }\n",
       "</style>\n",
       "<table border=\"1\" class=\"dataframe\">\n",
       "  <thead>\n",
       "    <tr style=\"text-align: right;\">\n",
       "      <th></th>\n",
       "      <th>mean_fit_time</th>\n",
       "      <th>std_fit_time</th>\n",
       "      <th>mean_score_time</th>\n",
       "      <th>std_score_time</th>\n",
       "      <th>param_alpha</th>\n",
       "      <th>params</th>\n",
       "      <th>split0_test_score</th>\n",
       "      <th>split1_test_score</th>\n",
       "      <th>split2_test_score</th>\n",
       "      <th>split3_test_score</th>\n",
       "      <th>...</th>\n",
       "      <th>mean_test_score</th>\n",
       "      <th>std_test_score</th>\n",
       "      <th>rank_test_score</th>\n",
       "      <th>split0_train_score</th>\n",
       "      <th>split1_train_score</th>\n",
       "      <th>split2_train_score</th>\n",
       "      <th>split3_train_score</th>\n",
       "      <th>split4_train_score</th>\n",
       "      <th>mean_train_score</th>\n",
       "      <th>std_train_score</th>\n",
       "    </tr>\n",
       "  </thead>\n",
       "  <tbody>\n",
       "    <tr>\n",
       "      <th>8</th>\n",
       "      <td>0.000998</td>\n",
       "      <td>0.000002</td>\n",
       "      <td>0.000637</td>\n",
       "      <td>0.000366</td>\n",
       "      <td>1000</td>\n",
       "      <td>{'alpha': 1000}</td>\n",
       "      <td>-51.010407</td>\n",
       "      <td>-5.026297</td>\n",
       "      <td>-61.479176</td>\n",
       "      <td>-0.894212</td>\n",
       "      <td>...</td>\n",
       "      <td>-24.027307</td>\n",
       "      <td>26.548963</td>\n",
       "      <td>1</td>\n",
       "      <td>0.0</td>\n",
       "      <td>0.0</td>\n",
       "      <td>0.0</td>\n",
       "      <td>0.0</td>\n",
       "      <td>0.0</td>\n",
       "      <td>0.0</td>\n",
       "      <td>0.0</td>\n",
       "    </tr>\n",
       "    <tr>\n",
       "      <th>9</th>\n",
       "      <td>0.000994</td>\n",
       "      <td>0.000201</td>\n",
       "      <td>0.000411</td>\n",
       "      <td>0.000504</td>\n",
       "      <td>10000</td>\n",
       "      <td>{'alpha': 10000}</td>\n",
       "      <td>-51.010407</td>\n",
       "      <td>-5.026297</td>\n",
       "      <td>-61.479176</td>\n",
       "      <td>-0.894212</td>\n",
       "      <td>...</td>\n",
       "      <td>-24.027307</td>\n",
       "      <td>26.548963</td>\n",
       "      <td>1</td>\n",
       "      <td>0.0</td>\n",
       "      <td>0.0</td>\n",
       "      <td>0.0</td>\n",
       "      <td>0.0</td>\n",
       "      <td>0.0</td>\n",
       "      <td>0.0</td>\n",
       "      <td>0.0</td>\n",
       "    </tr>\n",
       "    <tr>\n",
       "      <th>10</th>\n",
       "      <td>0.000442</td>\n",
       "      <td>0.000543</td>\n",
       "      <td>0.000698</td>\n",
       "      <td>0.000967</td>\n",
       "      <td>100000</td>\n",
       "      <td>{'alpha': 100000}</td>\n",
       "      <td>-51.010407</td>\n",
       "      <td>-5.026297</td>\n",
       "      <td>-61.479176</td>\n",
       "      <td>-0.894212</td>\n",
       "      <td>...</td>\n",
       "      <td>-24.027307</td>\n",
       "      <td>26.548963</td>\n",
       "      <td>1</td>\n",
       "      <td>0.0</td>\n",
       "      <td>0.0</td>\n",
       "      <td>0.0</td>\n",
       "      <td>0.0</td>\n",
       "      <td>0.0</td>\n",
       "      <td>0.0</td>\n",
       "      <td>0.0</td>\n",
       "    </tr>\n",
       "  </tbody>\n",
       "</table>\n",
       "<p>3 rows × 21 columns</p>\n",
       "</div>"
      ],
      "text/plain": [
       "    mean_fit_time  std_fit_time  mean_score_time  std_score_time param_alpha  \\\n",
       "8        0.000998      0.000002         0.000637        0.000366        1000   \n",
       "9        0.000994      0.000201         0.000411        0.000504       10000   \n",
       "10       0.000442      0.000543         0.000698        0.000967      100000   \n",
       "\n",
       "               params  split0_test_score  split1_test_score  \\\n",
       "8     {'alpha': 1000}         -51.010407          -5.026297   \n",
       "9    {'alpha': 10000}         -51.010407          -5.026297   \n",
       "10  {'alpha': 100000}         -51.010407          -5.026297   \n",
       "\n",
       "    split2_test_score  split3_test_score  ...  mean_test_score  \\\n",
       "8          -61.479176          -0.894212  ...       -24.027307   \n",
       "9          -61.479176          -0.894212  ...       -24.027307   \n",
       "10         -61.479176          -0.894212  ...       -24.027307   \n",
       "\n",
       "    std_test_score  rank_test_score  split0_train_score  split1_train_score  \\\n",
       "8        26.548963                1                 0.0                 0.0   \n",
       "9        26.548963                1                 0.0                 0.0   \n",
       "10       26.548963                1                 0.0                 0.0   \n",
       "\n",
       "    split2_train_score  split3_train_score  split4_train_score  \\\n",
       "8                  0.0                 0.0                 0.0   \n",
       "9                  0.0                 0.0                 0.0   \n",
       "10                 0.0                 0.0                 0.0   \n",
       "\n",
       "    mean_train_score  std_train_score  \n",
       "8                0.0              0.0  \n",
       "9                0.0              0.0  \n",
       "10               0.0              0.0  \n",
       "\n",
       "[3 rows x 21 columns]"
      ]
     },
     "execution_count": 186,
     "metadata": {},
     "output_type": "execute_result"
    }
   ],
   "source": [
    "cond = results['mean_test_score']==results['mean_test_score'].max()\n",
    "\n",
    "results[cond]"
   ]
  },
  {
   "cell_type": "code",
   "execution_count": 187,
   "metadata": {},
   "outputs": [
    {
     "data": {
      "text/plain": [
       "array([-51.01040671,  -5.02629708, -61.47917643,  -0.89421244,\n",
       "        -1.72644277])"
      ]
     },
     "execution_count": 187,
     "metadata": {},
     "output_type": "execute_result"
    }
   ],
   "source": [
    "cols = [col for col in results.columns if 'test_score' in col and 'mean' not in col \n",
    "        and 'std' not in col and 'rank' not in col]\n",
    "rand_R2 = results.loc[cond,cols].iloc[0].values\n",
    "rand_R2"
   ]
  },
  {
   "cell_type": "code",
   "execution_count": null,
   "metadata": {},
   "outputs": [],
   "source": []
  },
  {
   "cell_type": "code",
   "execution_count": 188,
   "metadata": {},
   "outputs": [],
   "source": [
    "from sklearn.model_selection import train_test_split\n",
    "\n",
    "X_train, X_valid, y_train, y_valid = train_test_split(X_random,y, test_size=0.33, random_state=42)"
   ]
  },
  {
   "cell_type": "code",
   "execution_count": 189,
   "metadata": {},
   "outputs": [
    {
     "data": {
      "text/plain": [
       "array([8447.44484629, 8447.44484629, 8447.44484629, 8447.44484629,\n",
       "       8447.44484629, 8447.44484629, 8447.44484629, 8447.44484629,\n",
       "       8447.44484629, 8447.44484629])"
      ]
     },
     "execution_count": 189,
     "metadata": {},
     "output_type": "execute_result"
    }
   ],
   "source": [
    "clf.best_estimator_.fit(X_train,y_train)\n",
    "clf.best_estimator_.predict(X_valid)[:10]"
   ]
  },
  {
   "cell_type": "code",
   "execution_count": 190,
   "metadata": {},
   "outputs": [
    {
     "data": {
      "text/plain": [
       "array([[7.75100000e+03],\n",
       "       [2.85142857e+02],\n",
       "       [1.63225714e+04],\n",
       "       [8.62142857e+02],\n",
       "       [2.27485714e+03],\n",
       "       [1.27927143e+04],\n",
       "       [7.14285714e-01],\n",
       "       [2.56928571e+03],\n",
       "       [3.59000000e+02],\n",
       "       [2.82738571e+04]])"
      ]
     },
     "execution_count": 190,
     "metadata": {},
     "output_type": "execute_result"
    }
   ],
   "source": [
    "y_valid[:10]"
   ]
  },
  {
   "cell_type": "markdown",
   "metadata": {},
   "source": [
    "## Statistical test"
   ]
  },
  {
   "cell_type": "code",
   "execution_count": 191,
   "metadata": {},
   "outputs": [],
   "source": [
    "from scipy.stats import ttest_ind"
   ]
  },
  {
   "cell_type": "code",
   "execution_count": 192,
   "metadata": {},
   "outputs": [
    {
     "data": {
      "text/plain": [
       "Ttest_indResult(statistic=1.876341349766242, pvalue=0.09745230919181107)"
      ]
     },
     "execution_count": 192,
     "metadata": {},
     "output_type": "execute_result"
    }
   ],
   "source": [
    "ttest_ind(a=R2,b=rand_R2,equal_var=True)"
   ]
  },
  {
   "cell_type": "code",
   "execution_count": 193,
   "metadata": {},
   "outputs": [],
   "source": [
    "from scipy.stats import f_oneway"
   ]
  },
  {
   "cell_type": "code",
   "execution_count": 194,
   "metadata": {},
   "outputs": [
    {
     "data": {
      "text/plain": [
       "F_onewayResult(statistic=3.520656860842601, pvalue=0.0974523091918113)"
      ]
     },
     "execution_count": 194,
     "metadata": {},
     "output_type": "execute_result"
    }
   ],
   "source": [
    "f_oneway(R2,rand_R2)"
   ]
  },
  {
   "cell_type": "code",
   "execution_count": null,
   "metadata": {},
   "outputs": [],
   "source": []
  }
 ],
 "metadata": {
  "kernelspec": {
   "display_name": "Python 3",
   "language": "python",
   "name": "python3"
  },
  "language_info": {
   "codemirror_mode": {
    "name": "ipython",
    "version": 3
   },
   "file_extension": ".py",
   "mimetype": "text/x-python",
   "name": "python",
   "nbconvert_exporter": "python",
   "pygments_lexer": "ipython3",
   "version": "3.8.3"
  }
 },
 "nbformat": 4,
 "nbformat_minor": 4
}
